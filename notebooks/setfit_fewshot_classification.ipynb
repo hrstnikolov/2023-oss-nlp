{
 "cells": [
  {
   "attachments": {},
   "cell_type": "markdown",
   "metadata": {},
   "source": [
    "## Run this notebook on Google Colab if you do not have a suitable GPU (running locally takes forever)"
   ]
  },
  {
   "cell_type": "code",
   "execution_count": null,
   "metadata": {},
   "outputs": [],
   "source": [
    "## Run the below if on Colab\n",
    "# !pip install setfit\n",
    "# !git clone https://github.com/krumeto/oss_nlp_tools_demos.git\n",
    "# from oss_nlp_tools_demos.data import preprocess_data"
   ]
  },
  {
   "cell_type": "code",
   "execution_count": 5,
   "metadata": {},
   "outputs": [
    {
     "name": "stdout",
     "output_type": "stream",
     "text": [
      "CUDA is not available.\n"
     ]
    }
   ],
   "source": [
    "import numpy as np\n",
    "import pandas as pd\n",
    "from pprint import pprint\n",
    "\n",
    "from datasets import Dataset\n",
    "from setfit import SetFitModel\n",
    "\n",
    "from sentence_transformers.losses import CosineSimilarityLoss\n",
    "from setfit import SetFitTrainer\n",
    "\n",
    "import torch\n",
    "\n",
    "if torch.cuda.is_available():\n",
    "    print(\"CUDA is available!\")\n",
    "else:\n",
    "    print(\"CUDA is not available.\")\n",
    "\n",
    "try:\n",
    "    from data.preprocess_data import combine_json_to_dataframe\n",
    "except ModuleNotFoundError:\n",
    "    pass"
   ]
  },
  {
   "cell_type": "code",
   "execution_count": 2,
   "metadata": {},
   "outputs": [
    {
     "data": {
      "text/plain": [
       "Dataset({\n",
       "    features: ['recipe', 'label'],\n",
       "    num_rows: 99\n",
       "})"
      ]
     },
     "execution_count": 2,
     "metadata": {},
     "output_type": "execute_result"
    }
   ],
   "source": [
    "annotated_df = pd.read_parquet(\"https://raw.githubusercontent.com/krumeto/oss_nlp_tools_demos/main/data/recipe_classes.parquet\")\n",
    "\n",
    "train_dataset = Dataset.from_pandas(annotated_df)\n",
    "train_dataset"
   ]
  },
  {
   "cell_type": "code",
   "execution_count": 3,
   "metadata": {},
   "outputs": [
    {
     "name": "stderr",
     "output_type": "stream",
     "text": [
      "model_head.pkl not found on HuggingFace Hub, initialising classification head with random weights. You should TRAIN this model on a downstream task to use it for predictions and inference.\n"
     ]
    },
    {
     "name": "stdout",
     "output_type": "stream",
     "text": [
      "512\n"
     ]
    }
   ],
   "source": [
    "model_id = \"sentence-transformers/all-MiniLM-L12-v2\"\n",
    "\n",
    "model = SetFitModel.from_pretrained(model_id)\n",
    "model.model_body[0].max_seq_length = 512"
   ]
  },
  {
   "cell_type": "code",
   "execution_count": 4,
   "metadata": {},
   "outputs": [],
   "source": [
    "trainer = SetFitTrainer(\n",
    "    model=model,\n",
    "    train_dataset=train_dataset,\n",
    "    eval_dataset=train_dataset,\n",
    "    loss_class=CosineSimilarityLoss,\n",
    "    num_iterations=20,\n",
    "    batch_size = 5, # Reduce the batch size due to memory issues\n",
    "    column_mapping={\"recipe\": \"text\", \"label\": \"label\"},\n",
    "    \n",
    ")"
   ]
  },
  {
   "cell_type": "code",
   "execution_count": 5,
   "metadata": {},
   "outputs": [
    {
     "name": "stderr",
     "output_type": "stream",
     "text": [
      "Applying column mapping to training dataset\n",
      "***** Running training *****\n",
      "  Num examples = 3960\n",
      "  Num epochs = 1\n",
      "  Total optimization steps = 248\n",
      "  Total train batch size = 16\n"
     ]
    },
    {
     "data": {
      "application/vnd.jupyter.widget-view+json": {
       "model_id": "f09f8a13bbff40d2bf06cee8b874a53a",
       "version_major": 2,
       "version_minor": 0
      },
      "text/plain": [
       "Epoch:   0%|          | 0/1 [00:00<?, ?it/s]"
      ]
     },
     "metadata": {},
     "output_type": "display_data"
    },
    {
     "data": {
      "application/vnd.jupyter.widget-view+json": {
       "model_id": "7cb6bab73e2a45c29f3cb711c045e82b",
       "version_major": 2,
       "version_minor": 0
      },
      "text/plain": [
       "Iteration:   0%|          | 0/248 [00:00<?, ?it/s]"
      ]
     },
     "metadata": {},
     "output_type": "display_data"
    },
    {
     "ename": "",
     "evalue": "",
     "output_type": "error",
     "traceback": [
      "\u001b[1;31mCanceled future for execute_request message before replies were done"
     ]
    },
    {
     "ename": "",
     "evalue": "",
     "output_type": "error",
     "traceback": [
      "\u001b[1;31mThe Kernel crashed while executing code in the the current cell or a previous cell. Please review the code in the cell(s) to identify a possible cause of the failure. Click <a href='https://aka.ms/vscodeJupyterKernelCrash'>here</a> for more info. View Jupyter <a href='command:jupyter.viewOutput'>log</a> for further details."
     ]
    }
   ],
   "source": [
    "trainer.train()"
   ]
  },
  {
   "cell_type": "code",
   "execution_count": null,
   "metadata": {},
   "outputs": [],
   "source": [
    "complicated_recipe = \"\"\"Ingredients:\n",
    "4 ounces pancetta, diced into 1/4 inch cubes\n",
    "2 1/2 to 3 pounds veal shanks (4 to 6 pieces 2 to 3 inches thick)\n",
    "1/2 cup diced onion\n",
    "1/2 cup diced celery\n",
    "1/2 cup diced carrot\n",
    "3 garlic cloves , minced\n",
    "1 1/2 cups canned chopped tomatoes\n",
    "1 1/2 cups chicken broth\n",
    "1/2 cup dry white wine\n",
    "1 bay leaf\n",
    "1 sprig fresh thyme\n",
    "salt\n",
    "freshly ground black pepper\n",
    "all-purpose flour for dredging\n",
    "2 tablespoons unsalted butter\n",
    "2 tablespoons extra-virgin olive oil\n",
    "4 3-inch strips of lemon zest\n",
    "\n",
    "Directions:\n",
    "\n",
    "Preheat oven to 375°F.\n",
    "Heat the olive oil over medium heat in a large Dutch oven.\n",
    "Cook pancetta until browned and crisp.\n",
    "Remove pancetta with a slotted spoon and transfer to a paper towel-lined plate.\n",
    "Season veal shanks with salt and pepper and dredge in flour.\n",
    "Cook the veal until browned on all sides, working in batches if necessary, then transfer to a plate.\n",
    "Add the onion, celery, carrot, garlic, and a pinch of salt to the Dutch oven and cook until softened.\n",
    "Stir in the tomatoes, chicken broth, dry white wine, bay leaf, and thyme sprig.\n",
    "Return the veal shanks and pancetta to the Dutch oven and bring the liquid to a simmer.\n",
    "Cover the pot and place it in the oven to braise for 2-2 1/2 hours, until the veal is very tender.\n",
    "Serve with gremolata and garnish with lemon zest strips.\n",
    "Note: To make gremolata, finely chop 2 tablespoons fresh parsley, 1 tablespoon grated lemon zest, and 1 garlic clove. Mix together and sprinkle over the osso buco before serving.\"\"\"\n",
    "\n",
    "trainer.model.predict([complicated_recipe])"
   ]
  },
  {
   "cell_type": "code",
   "execution_count": null,
   "metadata": {},
   "outputs": [],
   "source": [
    "simple_recipe = \"\"\"Ingredients:\n",
    "2 large eggs\n",
    "Salt and pepper to taste\n",
    "1 tablespoon unsalted butter\n",
    "Instructions:\n",
    "Crack the eggs into a bowl and whisk them with a fork until the whites and yolks are well combined.\n",
    "Season with salt and pepper to taste.\"\"\"\n",
    "\n",
    "trainer.model.predict([simple_recipe])"
   ]
  },
  {
   "cell_type": "code",
   "execution_count": null,
   "metadata": {},
   "outputs": [],
   "source": [
    "torch.save(trainer, 'setfit-recipe-cls.pt')"
   ]
  },
  {
   "attachments": {},
   "cell_type": "markdown",
   "metadata": {},
   "source": [
    "## Download the recipes, preprocess and classify with the trained SetFit model"
   ]
  },
  {
   "cell_type": "code",
   "execution_count": null,
   "metadata": {},
   "outputs": [],
   "source": [
    "## Run if on Colab\n",
    "# !wget https://eightportions.com/recipes_raw.zip"
   ]
  },
  {
   "cell_type": "code",
   "execution_count": null,
   "metadata": {},
   "outputs": [],
   "source": [
    "# Weird, but necessary depending on running this one locally or on Colab\n",
    "try:\n",
    "    # when running on Colab\n",
    "    recipe_data = preprocess_data.combine_json_to_dataframe(\"recipes_raw.zip\")\n",
    "except NameError:\n",
    "    # when running locally\n",
    "    recipe_data = combine_json_to_dataframe(\"../data/recipes_raw.zip\")"
   ]
  },
  {
   "attachments": {},
   "cell_type": "markdown",
   "metadata": {},
   "source": [
    "### Classify the recipes"
   ]
  },
  {
   "cell_type": "code",
   "execution_count": null,
   "metadata": {},
   "outputs": [],
   "source": [
    "docs = [rec for rec in recipe_data.full_text]\n",
    "\n",
    "class_predictions = trainer.model.predict(docs)\n",
    "class_probas = trainer.model.predict_proba(docs)"
   ]
  },
  {
   "attachments": {},
   "cell_type": "markdown",
   "metadata": {},
   "source": [
    "### Quick test of the probabilities"
   ]
  },
  {
   "cell_type": "code",
   "execution_count": null,
   "metadata": {},
   "outputs": [],
   "source": [
    "def get_max_index(tensor, col):\n",
    "    # Get highest score per column\n",
    "    max_val, max_idx = torch.max(tensor[:, col], 0)\n",
    "    return max_idx.item()\n",
    "\n",
    "hardest_recipe = get_max_index(class_probas, 3) #hardest recipe\n",
    "\n",
    "pprint(docs[hardest_recipe])\n",
    "print(class_probas[hardest_recipe])"
   ]
  },
  {
   "cell_type": "code",
   "execution_count": null,
   "metadata": {},
   "outputs": [],
   "source": [
    "easiest_recipe = get_max_index(class_probas, 0) \n",
    "\n",
    "pprint(docs[easiest_recipe])\n",
    "print(class_probas[easiest_recipe])"
   ]
  },
  {
   "attachments": {},
   "cell_type": "markdown",
   "metadata": {},
   "source": [
    "### Save the scores"
   ]
  },
  {
   "cell_type": "code",
   "execution_count": null,
   "metadata": {},
   "outputs": [],
   "source": [
    "scores_pd = pd.DataFrame(torch.cat((class_predictions.unsqueeze(1), class_probas), dim=1), \n",
    "             columns=['pred_class', 'pred_very_easy', 'pred_easy', 'pred_medium', 'pred_hard'])"
   ]
  },
  {
   "cell_type": "code",
   "execution_count": null,
   "metadata": {},
   "outputs": [],
   "source": [
    "scores_pd.to_parquet(\"setfit_scores.parquet\")"
   ]
  }
 ],
 "metadata": {
  "kernelspec": {
   "display_name": "Python 3",
   "language": "python",
   "name": "python3"
  },
  "language_info": {
   "codemirror_mode": {
    "name": "ipython",
    "version": 3
   },
   "file_extension": ".py",
   "mimetype": "text/x-python",
   "name": "python",
   "nbconvert_exporter": "python",
   "pygments_lexer": "ipython3",
   "version": "3.9.16"
  },
  "orig_nbformat": 4
 },
 "nbformat": 4,
 "nbformat_minor": 2
}
