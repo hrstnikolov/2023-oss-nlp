{
 "cells": [
  {
   "cell_type": "code",
   "execution_count": 1,
   "metadata": {},
   "outputs": [
    {
     "name": "stderr",
     "output_type": "stream",
     "text": [
      "/home/vscode/.local/lib/python3.9/site-packages/tqdm/auto.py:21: TqdmWarning: IProgress not found. Please update jupyter and ipywidgets. See https://ipywidgets.readthedocs.io/en/stable/user_install.html\n",
      "  from .autonotebook import tqdm as notebook_tqdm\n"
     ]
    }
   ],
   "source": [
    "from sentence_transformers import SentenceTransformer\n",
    "import numpy as np\n",
    "from sklearn.metrics.pairwise import cosine_similarity\n",
    "from joblib import dump, load\n",
    "\n",
    "from data.preprocess_data import combine_json_to_dataframe"
   ]
  },
  {
   "cell_type": "code",
   "execution_count": 2,
   "metadata": {},
   "outputs": [
    {
     "name": "stdout",
     "output_type": "stream",
     "text": [
      "<class 'pandas.core.frame.DataFrame'>\n",
      "Index: 124434 entries, p3pKOD6jIHEcjf20CCXohP8uqkG5dGi to 2Q3Zpfgt/PUwn1YABjJ5A9T3ZW8xwVa\n",
      "Data columns (total 5 columns):\n",
      " #   Column        Non-Null Count   Dtype  \n",
      "---  ------        --------------   -----  \n",
      " 0   instructions  124434 non-null  object \n",
      " 1   ingredients   124434 non-null  object \n",
      " 2   title         124434 non-null  object \n",
      " 3   full_text     124434 non-null  object \n",
      " 4   num_words     124434 non-null  float64\n",
      "dtypes: float64(1), object(4)\n",
      "memory usage: 5.7+ MB\n"
     ]
    }
   ],
   "source": [
    "# Call the function with the path to the zip file\n",
    "recipe_data = combine_json_to_dataframe(\"../data/recipes_raw.zip\")\n",
    "\n",
    "recipe_data.info(verbose=True)"
   ]
  },
  {
   "cell_type": "code",
   "execution_count": 6,
   "metadata": {},
   "outputs": [
    {
     "name": "stderr",
     "output_type": "stream",
     "text": [
      "Batches: 100%|██████████| 3889/3889 [5:34:50<00:00,  5.17s/it]  \n"
     ]
    },
    {
     "name": "stdout",
     "output_type": "stream",
     "text": [
      "(124434, 384)\n"
     ]
    }
   ],
   "source": [
    "vectoriser = SentenceTransformer(\"all-MiniLM-L12-v2\")\n",
    "vectoriser.max_seq_length = 512\n",
    "\n",
    "embeddings = vectoriser.encode([rec for rec in recipe_data.full_text], show_progress_bar=True)\n",
    "print(embeddings.shape)"
   ]
  },
  {
   "cell_type": "code",
   "execution_count": 7,
   "metadata": {},
   "outputs": [],
   "source": [
    "def get_most_similar_doc(text, vectorized_corpus, original_data, vectoriser=vectoriser, top_n = 5):\n",
    "    new_doc_vector = vectoriser.encode(text)\n",
    "    sim = cosine_similarity(X = vectorized_corpus, Y = new_doc_vector).flatten()\n",
    "    argmax = np.argpartition(sim, -top_n)[-top_n:]\n",
    "    return(\n",
    "        (original_data.\n",
    "         iloc[argmax].\n",
    "         assign(similarity = sim[argmax]).\n",
    "         loc[:, ['title', 'ingredients', 'similarity']].\n",
    "         sort_values('similarity', ascending = False).\n",
    "         reset_index(drop=True)\n",
    "         )\n",
    "\n",
    "    )"
   ]
  },
  {
   "cell_type": "code",
   "execution_count": 11,
   "metadata": {},
   "outputs": [
    {
     "data": {
      "text/html": [
       "<div>\n",
       "<style scoped>\n",
       "    .dataframe tbody tr th:only-of-type {\n",
       "        vertical-align: middle;\n",
       "    }\n",
       "\n",
       "    .dataframe tbody tr th {\n",
       "        vertical-align: top;\n",
       "    }\n",
       "\n",
       "    .dataframe thead th {\n",
       "        text-align: right;\n",
       "    }\n",
       "</style>\n",
       "<table border=\"1\" class=\"dataframe\">\n",
       "  <thead>\n",
       "    <tr style=\"text-align: right;\">\n",
       "      <th></th>\n",
       "      <th>title</th>\n",
       "      <th>ingredients</th>\n",
       "      <th>similarity</th>\n",
       "    </tr>\n",
       "  </thead>\n",
       "  <tbody>\n",
       "    <tr>\n",
       "      <th>0</th>\n",
       "      <td>Pork Cutlets</td>\n",
       "      <td>[1 egg white plus 1 tablespoon water, 1 teaspo...</td>\n",
       "      <td>0.840093</td>\n",
       "    </tr>\n",
       "    <tr>\n",
       "      <th>1</th>\n",
       "      <td>Breaded Pork Chops</td>\n",
       "      <td>[Four 1/2-inch-thick, bone-in, pork chops (abo...</td>\n",
       "      <td>0.773805</td>\n",
       "    </tr>\n",
       "    <tr>\n",
       "      <th>2</th>\n",
       "      <td>Crispy Pork Cutlets</td>\n",
       "      <td>[2 (1 1/4 pound) fully trimmed pork tenderloin...</td>\n",
       "      <td>0.770084</td>\n",
       "    </tr>\n",
       "    <tr>\n",
       "      <th>3</th>\n",
       "      <td>Fried Pork Chops</td>\n",
       "      <td>[4 cups vegetable oil, 8 (8-ounce) bone-in por...</td>\n",
       "      <td>0.761982</td>\n",
       "    </tr>\n",
       "    <tr>\n",
       "      <th>4</th>\n",
       "      <td>Crispy Pork Cutlets with Capers, Lemon, Arugul...</td>\n",
       "      <td>[1 lemon, 1 teaspoon chopped fresh sage, 1 tea...</td>\n",
       "      <td>0.756354</td>\n",
       "    </tr>\n",
       "    <tr>\n",
       "      <th>5</th>\n",
       "      <td>Olive Brushed Pork Cutlets</td>\n",
       "      <td>[8 boneless pork loin cutlets, trimmed of fat ...</td>\n",
       "      <td>0.754591</td>\n",
       "    </tr>\n",
       "    <tr>\n",
       "      <th>6</th>\n",
       "      <td>Pork Chops with Mustard and Cream</td>\n",
       "      <td>[3 tablespoons olive oil, 4 pork chops (1-inch...</td>\n",
       "      <td>0.754549</td>\n",
       "    </tr>\n",
       "    <tr>\n",
       "      <th>7</th>\n",
       "      <td>Pork Fries</td>\n",
       "      <td>[1 (19 ounce) package Smithfield® Peppercorn &amp;...</td>\n",
       "      <td>0.753094</td>\n",
       "    </tr>\n",
       "    <tr>\n",
       "      <th>8</th>\n",
       "      <td>Pan Fried Pork Chops</td>\n",
       "      <td>[1 teaspoon seasoned salt, plus more for seaso...</td>\n",
       "      <td>0.746066</td>\n",
       "    </tr>\n",
       "    <tr>\n",
       "      <th>9</th>\n",
       "      <td>Paneed Veal with Fried Lemon Slices</td>\n",
       "      <td>[2 large eggs, 1/2 cup water, 1 1/2 cups fine ...</td>\n",
       "      <td>0.742709</td>\n",
       "    </tr>\n",
       "  </tbody>\n",
       "</table>\n",
       "</div>"
      ],
      "text/plain": [
       "                                               title  \\\n",
       "0                                       Pork Cutlets   \n",
       "1                                 Breaded Pork Chops   \n",
       "2                                Crispy Pork Cutlets   \n",
       "3                                   Fried Pork Chops   \n",
       "4  Crispy Pork Cutlets with Capers, Lemon, Arugul...   \n",
       "5                         Olive Brushed Pork Cutlets   \n",
       "6                  Pork Chops with Mustard and Cream   \n",
       "7                                         Pork Fries   \n",
       "8                               Pan Fried Pork Chops   \n",
       "9               Paneed Veal with Fried Lemon Slices    \n",
       "\n",
       "                                         ingredients  similarity  \n",
       "0  [1 egg white plus 1 tablespoon water, 1 teaspo...    0.840093  \n",
       "1  [Four 1/2-inch-thick, bone-in, pork chops (abo...    0.773805  \n",
       "2  [2 (1 1/4 pound) fully trimmed pork tenderloin...    0.770084  \n",
       "3  [4 cups vegetable oil, 8 (8-ounce) bone-in por...    0.761982  \n",
       "4  [1 lemon, 1 teaspoon chopped fresh sage, 1 tea...    0.756354  \n",
       "5  [8 boneless pork loin cutlets, trimmed of fat ...    0.754591  \n",
       "6  [3 tablespoons olive oil, 4 pork chops (1-inch...    0.754549  \n",
       "7  [1 (19 ounce) package Smithfield® Peppercorn &...    0.753094  \n",
       "8  [1 teaspoon seasoned salt, plus more for seaso...    0.746066  \n",
       "9  [2 large eggs, 1/2 cup water, 1 1/2 cups fine ...    0.742709  "
      ]
     },
     "execution_count": 11,
     "metadata": {},
     "output_type": "execute_result"
    }
   ],
   "source": [
    "test_recipe = [\"\"\"\n",
    "Ingredients:\n",
    "\n",
    "4 veal cutlets (or pork if you can't find veal)\n",
    "Salt\n",
    "Pepper\n",
    "1 cup flour\n",
    "2 eggs\n",
    "1 cup breadcrumbs (preferably made from stale bread)\n",
    "1/2 cup vegetable oil (for frying)\n",
    "1 lemon (optional)\n",
    "Instructions:\n",
    "\n",
    "Pound the cutlets with a meat mallet until they are about 1/4 inch thick. Season both sides with salt and pepper.\n",
    "\n",
    "Place the flour in a shallow dish. In another dish, beat the eggs. In a third dish, place the breadcrumbs.\n",
    "\n",
    "Coat each cutlet with flour, shaking off any excess. Dip it into the beaten eggs, and then coat with the breadcrumbs. Repeat this for all of the cutlets.\n",
    "\n",
    "Heat the vegetable oil in a large frying pan until hot.\n",
    "\n",
    "Fry each cutlet for about 2-3 minutes on each side, or until golden brown and crispy. Be careful not to overcrowd the pan, you may need to fry them in batches.\n",
    "\n",
    "Remove the cutlets from the pan with a slotted spoon and place them on paper towels to drain any excess oil.\n",
    "\n",
    "\"\"\"]\n",
    "\n",
    "get_most_similar_doc(text = test_recipe, \n",
    "                     vectorized_corpus = embeddings, \n",
    "                     original_data = recipe_data,\n",
    "                     top_n = 10)"
   ]
  },
  {
   "cell_type": "code",
   "execution_count": 12,
   "metadata": {},
   "outputs": [
    {
     "data": {
      "text/html": [
       "<div>\n",
       "<style scoped>\n",
       "    .dataframe tbody tr th:only-of-type {\n",
       "        vertical-align: middle;\n",
       "    }\n",
       "\n",
       "    .dataframe tbody tr th {\n",
       "        vertical-align: top;\n",
       "    }\n",
       "\n",
       "    .dataframe thead th {\n",
       "        text-align: right;\n",
       "    }\n",
       "</style>\n",
       "<table border=\"1\" class=\"dataframe\">\n",
       "  <thead>\n",
       "    <tr style=\"text-align: right;\">\n",
       "      <th></th>\n",
       "      <th>title</th>\n",
       "      <th>ingredients</th>\n",
       "      <th>similarity</th>\n",
       "    </tr>\n",
       "  </thead>\n",
       "  <tbody>\n",
       "    <tr>\n",
       "      <th>0</th>\n",
       "      <td>Crème Brûlée</td>\n",
       "      <td>[2 1/2 cups heavy cream, 3/4 cup sugar, 1/2 va...</td>\n",
       "      <td>0.870680</td>\n",
       "    </tr>\n",
       "    <tr>\n",
       "      <th>1</th>\n",
       "      <td>Chocolate Sprinkled Creme Brulee</td>\n",
       "      <td>[2 1/3 cups heavy cream, 1/3 cup half-and-half...</td>\n",
       "      <td>0.822773</td>\n",
       "    </tr>\n",
       "    <tr>\n",
       "      <th>2</th>\n",
       "      <td>Vanilla Bean Creme Brulee with Raspberries</td>\n",
       "      <td>[2 1/3 cups heavy cream, 2/3 cup sugar, plus m...</td>\n",
       "      <td>0.812624</td>\n",
       "    </tr>\n",
       "    <tr>\n",
       "      <th>3</th>\n",
       "      <td>Bread Pudding</td>\n",
       "      <td>[4 cups whole milk, 1 cup granulated sugar, 1 ...</td>\n",
       "      <td>0.802830</td>\n",
       "    </tr>\n",
       "    <tr>\n",
       "      <th>4</th>\n",
       "      <td>Creme Caramel</td>\n",
       "      <td>[2/3 cup sugar, 1/3 cup water, 1 cup milk, 1 c...</td>\n",
       "      <td>0.793676</td>\n",
       "    </tr>\n",
       "    <tr>\n",
       "      <th>5</th>\n",
       "      <td>Coffee Crème Brûlée</td>\n",
       "      <td>[6 large egg yolks, 1 large whole egg, 2/3 cup...</td>\n",
       "      <td>0.793207</td>\n",
       "    </tr>\n",
       "    <tr>\n",
       "      <th>6</th>\n",
       "      <td>Vanilla Creme Brulee</td>\n",
       "      <td>[1 vanilla bean, 2 cups heavy cream, 2 cups ha...</td>\n",
       "      <td>0.791325</td>\n",
       "    </tr>\n",
       "    <tr>\n",
       "      <th>7</th>\n",
       "      <td>Chocolate Creme Brulee</td>\n",
       "      <td>[4 cups heavy whipping cream ADVERTISEMENT, 1 ...</td>\n",
       "      <td>0.788030</td>\n",
       "    </tr>\n",
       "    <tr>\n",
       "      <th>8</th>\n",
       "      <td>Vanilla Custard Sauce</td>\n",
       "      <td>[1 1/2 cups half and half, 1 vanilla bean, spl...</td>\n",
       "      <td>0.786678</td>\n",
       "    </tr>\n",
       "    <tr>\n",
       "      <th>9</th>\n",
       "      <td>Black and White Crème Brûlée</td>\n",
       "      <td>[1/2 cup whole milk, 2 cups heavy cream, 1/2 c...</td>\n",
       "      <td>0.784769</td>\n",
       "    </tr>\n",
       "  </tbody>\n",
       "</table>\n",
       "</div>"
      ],
      "text/plain": [
       "                                        title  \\\n",
       "0                               Crème Brûlée    \n",
       "1            Chocolate Sprinkled Creme Brulee   \n",
       "2  Vanilla Bean Creme Brulee with Raspberries   \n",
       "3                               Bread Pudding   \n",
       "4                               Creme Caramel   \n",
       "5                        Coffee Crème Brûlée    \n",
       "6                        Vanilla Creme Brulee   \n",
       "7                      Chocolate Creme Brulee   \n",
       "8                      Vanilla Custard Sauce    \n",
       "9               Black and White Crème Brûlée    \n",
       "\n",
       "                                         ingredients  similarity  \n",
       "0  [2 1/2 cups heavy cream, 3/4 cup sugar, 1/2 va...    0.870680  \n",
       "1  [2 1/3 cups heavy cream, 1/3 cup half-and-half...    0.822773  \n",
       "2  [2 1/3 cups heavy cream, 2/3 cup sugar, plus m...    0.812624  \n",
       "3  [4 cups whole milk, 1 cup granulated sugar, 1 ...    0.802830  \n",
       "4  [2/3 cup sugar, 1/3 cup water, 1 cup milk, 1 c...    0.793676  \n",
       "5  [6 large egg yolks, 1 large whole egg, 2/3 cup...    0.793207  \n",
       "6  [1 vanilla bean, 2 cups heavy cream, 2 cups ha...    0.791325  \n",
       "7  [4 cups heavy whipping cream ADVERTISEMENT, 1 ...    0.788030  \n",
       "8  [1 1/2 cups half and half, 1 vanilla bean, spl...    0.786678  \n",
       "9  [1/2 cup whole milk, 2 cups heavy cream, 1/2 c...    0.784769  "
      ]
     },
     "execution_count": 12,
     "metadata": {},
     "output_type": "execute_result"
    }
   ],
   "source": [
    "test_recipe_2 = [\n",
    "    \"\"\"Ingredients:\n",
    "- 2 cups heavy cream\n",
    "- 1 vanilla bean, split and scraped or 1 tsp vanilla extract\n",
    "- 5 egg yolks\n",
    "- 1/2 cup granulated sugar, plus more for caramelizing\n",
    "\n",
    "Instructions:\n",
    "\n",
    "1. Preheat the oven to 325°F.\n",
    "\n",
    "2. In a medium saucepan, heat the cream and vanilla bean (both the seeds and the pod) over medium heat until it just begins to simmer. Remove from heat and let sit for 15 minutes to infuse the vanilla flavor.\n",
    "\n",
    "3. Whisk together the egg yolks and sugar in a medium bowl until light and fluffy.\n",
    "\n",
    "4. Remove the vanilla pod from the cream and scrape the seeds back into the cream. Discard the pod.\n",
    "\n",
    "5. Slowly add the cream to the egg mixture, whisking constantly, until well combined.\n",
    "\n",
    "6. Divide the mixture among four 6-ounce ramekins or custard cups.\n",
    "\n",
    "7. Place the ramekins in a baking dish and add enough hot water to the dish to reach halfway up the sides of the ramekins.\n",
    "\n",
    "8. Bake for 30-35 minutes or until the custard is set but still slightly jiggly in the center.\n",
    "\n",
    "9. Remove the ramekins from the water bath and let cool to room temperature. Refrigerate for at least 2 hours or overnight.\n",
    "\n",
    "10. When ready to serve, sprinkle a thin layer of sugar over the top of each custard. Either use a culinary torch to caramelize the sugar or place the ramekins under a broiler until the sugar is melted and caramelized. Serve immediately.\n",
    "\"\"\"\n",
    "]\n",
    "\n",
    "get_most_similar_doc(text = test_recipe_2, \n",
    "                     vectorized_corpus = embeddings, \n",
    "                     original_data = recipe_data,\n",
    "                     top_n=10)"
   ]
  },
  {
   "attachments": {},
   "cell_type": "markdown",
   "metadata": {},
   "source": [
    "## Save model and embeddings"
   ]
  },
  {
   "cell_type": "code",
   "execution_count": 10,
   "metadata": {},
   "outputs": [
    {
     "data": {
      "text/plain": [
       "['../embeddings/st_embeddings.joblib']"
      ]
     },
     "execution_count": 10,
     "metadata": {},
     "output_type": "execute_result"
    }
   ],
   "source": [
    "dump(embeddings, \"../embeddings/st_embeddings.joblib\")"
   ]
  }
 ],
 "metadata": {
  "kernelspec": {
   "display_name": "Python 3",
   "language": "python",
   "name": "python3"
  },
  "language_info": {
   "codemirror_mode": {
    "name": "ipython",
    "version": 3
   },
   "file_extension": ".py",
   "mimetype": "text/x-python",
   "name": "python",
   "nbconvert_exporter": "python",
   "pygments_lexer": "ipython3",
   "version": "3.9.16"
  },
  "orig_nbformat": 4,
  "vscode": {
   "interpreter": {
    "hash": "949777d72b0d2535278d3dc13498b2535136f6dfe0678499012e853ee9abcab1"
   }
  }
 },
 "nbformat": 4,
 "nbformat_minor": 2
}
