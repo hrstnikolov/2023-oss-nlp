{
 "cells": [
  {
   "cell_type": "code",
   "execution_count": 1,
   "metadata": {},
   "outputs": [],
   "source": [
    "from sentence_transformers import SentenceTransformer\n",
    "import numpy as np\n",
    "from sklearn.metrics.pairwise import cosine_similarity\n",
    "from joblib import dump, load\n",
    "\n",
    "from data.preprocess_data import combine_json_to_dataframe\n",
    "\n",
    "from langchain.embeddings import HuggingFaceEmbeddings\n",
    "from langchain.vectorstores import Chroma\n",
    "\n"
   ]
  },
  {
   "cell_type": "code",
   "execution_count": 2,
   "metadata": {},
   "outputs": [
    {
     "name": "stdout",
     "output_type": "stream",
     "text": [
      "<class 'pandas.core.frame.DataFrame'>\n",
      "Index: 124434 entries, p3pKOD6jIHEcjf20CCXohP8uqkG5dGi to 2Q3Zpfgt/PUwn1YABjJ5A9T3ZW8xwVa\n",
      "Data columns (total 5 columns):\n",
      " #   Column        Non-Null Count   Dtype  \n",
      "---  ------        --------------   -----  \n",
      " 0   instructions  124434 non-null  object \n",
      " 1   ingredients   124434 non-null  object \n",
      " 2   title         124434 non-null  object \n",
      " 3   full_text     124434 non-null  object \n",
      " 4   num_words     124434 non-null  float64\n",
      "dtypes: float64(1), object(4)\n",
      "memory usage: 5.7+ MB\n"
     ]
    }
   ],
   "source": [
    "# Call the function with the path to the zip file\n",
    "recipe_data = combine_json_to_dataframe(\"../data/recipes_raw.zip\")\n",
    "\n",
    "recipe_data.info(verbose=True)"
   ]
  },
  {
   "cell_type": "code",
   "execution_count": 3,
   "metadata": {},
   "outputs": [],
   "source": [
    "embeddings = HuggingFaceEmbeddings(model_name=\"sentence-transformers/all-MiniLM-L12-v2\")"
   ]
  },
  {
   "cell_type": "code",
   "execution_count": 4,
   "metadata": {},
   "outputs": [
    {
     "name": "stderr",
     "output_type": "stream",
     "text": [
      "Using embedded DuckDB with persistence: data will be stored in: ../embeddings/chromadb\n"
     ]
    }
   ],
   "source": [
    "db = Chroma.from_texts(texts=[doc for doc in recipe_data.full_text], \n",
    "                           embedding=embeddings,\n",
    "                           persist_directory=\"../embeddings/chromadb\"\n",
    "                           )"
   ]
  },
  {
   "cell_type": "code",
   "execution_count": 5,
   "metadata": {},
   "outputs": [
    {
     "name": "stdout",
     "output_type": "stream",
     "text": [
      "##################################################\n",
      "Distance:  0.4617595076560974\n",
      "Recipe title: Pork Cutlets. Ingredients: 1 egg white plus 1 tablespoon water; 1 teaspoon dry mustard\n",
      "##################################################\n",
      "Distance:  0.4874432682991028\n",
      "Recipe title: Crispy Pork Cutlets with Capers, Lemon, Arugula, and Chopped Eggs . Ingredients: 1 lem\n",
      "##################################################\n",
      "Distance:  0.49450206756591797\n",
      "Recipe title: Crispy Pork Cutlets. Ingredients: 2 (1 1/4 pound) fully trimmed pork tenderloins, cut \n",
      "+++++++++++++++++++MMR RESULTS++++++++++++++++++++\n",
      "##################################################\n",
      "Recipe title: Pork Cutlets. Ingredients: 1 egg white plus 1 tablespoon water; 1 teaspoon dry mustard\n",
      "##################################################\n",
      "Recipe title: Becca's Chicken-Fried Pork Chops. Ingredients: 1 1/2 cups all-purpose flour ; 1 1/2 te\n",
      "##################################################\n",
      "Recipe title: Pork Tenderloin with Herbed Breadcrumb Crust . Ingredients: 6 cups fresh breadcrumbs m\n"
     ]
    }
   ],
   "source": [
    "test_recipe = \"\"\"\n",
    "Ingredients:\n",
    "\n",
    "4 veal cutlets (or pork if you can't find veal)\n",
    "Salt\n",
    "Pepper\n",
    "1 cup flour\n",
    "2 eggs\n",
    "1 cup breadcrumbs (preferably made from stale bread)\n",
    "1/2 cup vegetable oil (for frying)\n",
    "1 lemon (optional)\n",
    "Instructions:\n",
    "\n",
    "Pound the cutlets with a meat mallet until they are about 1/4 inch thick. Season both sides with salt and pepper.\n",
    "\n",
    "Place the flour in a shallow dish. In another dish, beat the eggs. In a third dish, place the breadcrumbs.\n",
    "\n",
    "Coat each cutlet with flour, shaking off any excess. Dip it into the beaten eggs, and then coat with the breadcrumbs. Repeat this for all of the cutlets.\n",
    "\n",
    "Heat the vegetable oil in a large frying pan until hot.\n",
    "\n",
    "Fry each cutlet for about 2-3 minutes on each side, or until golden brown and crispy. Be careful not to overcrowd the pan, you may need to fry them in batches.\n",
    "\n",
    "Remove the cutlets from the pan with a slotted spoon and place them on paper towels to drain any excess oil.\n",
    "\n",
    "\"\"\"\n",
    "\n",
    "results = db.similarity_search_with_score(test_recipe)\n",
    "\n",
    "for doc in results[:3]:\n",
    "    print(\"#\"*50)\n",
    "    print(\"Distance: \", doc[1])\n",
    "    print(doc[0].page_content[:100])\n",
    "    \n",
    "print(\"+\"*19 + \"MMR RESULTS\" + \"+\"*20)\n",
    "# Maximal marginal relevance optimizes for similarity to query AND diversity among selected documents\n",
    "mmr = db.max_marginal_relevance_search(test_recipe)\n",
    "for doc in mmr[:3]:\n",
    "    print(\"#\"*50)\n",
    "    print(doc.page_content[:100])\n",
    "\n"
   ]
  },
  {
   "cell_type": "code",
   "execution_count": 13,
   "metadata": {},
   "outputs": [
    {
     "name": "stdout",
     "output_type": "stream",
     "text": [
      "##################################################\n",
      "Distance:  0.40821030735969543\n",
      "Recipe title: Vanilla Cream and Glaze . Ingredients: 2 cups whole milk; 1/2 vanilla bean, split leng\n",
      "##################################################\n",
      "Distance:  0.44332942366600037\n",
      "Recipe title: Vanilla Bean Ice Cream. Ingredients: 3 cups heavy cream; 1 cup whole milk; 1 vanilla b\n",
      "##################################################\n",
      "Distance:  0.46760663390159607\n",
      "Recipe title: Vanilla-Bean Ice Cream . Ingredients: 2 cups heavy cream; 1 cup whole milk; 3/4 cup su\n",
      "+++++++++++++++++++MMR RESULTS++++++++++++++++++++\n",
      "##################################################\n",
      "Recipe title: Vanilla Cream and Glaze . Ingredients: 2 cups whole milk; 1/2 vanilla bean, split leng\n",
      "##################################################\n",
      "Recipe title: Creme Caramel. Ingredients: 3 cups whole milk; 1 vanilla bean, split lengthwise, seeds\n",
      "##################################################\n",
      "Recipe title: Vanilla Sugar. Ingredients: 1 vanilla bean, whole or scraped; 2 cups granulated sugar.\n"
     ]
    }
   ],
   "source": [
    "test_recipe_2 =  \"\"\"Ingredients:\n",
    "- 2 cups heavy cream\n",
    "- 1 vanilla bean, split and scraped or 1 tsp vanilla extract\n",
    "- 5 egg yolks\n",
    "- 1/2 cup granulated sugar, plus more for caramelizing\n",
    "\n",
    "Instructions:\n",
    "\n",
    "1. Preheat the oven to 325°F.\n",
    "\n",
    "2. In a medium saucepan, heat the cream and vanilla bean (both the seeds and the pod) over medium heat until it just begins to simmer. Remove from heat and let sit for 15 minutes to infuse the vanilla flavor.\n",
    "\n",
    "3. Whisk together the egg yolks and sugar in a medium bowl until light and fluffy.\n",
    "\n",
    "4. Remove the vanilla pod from the cream and scrape the seeds back into the cream. Discard the pod.\n",
    "\n",
    "5. Slowly add the cream to the egg mixture, whisking constantly, until well combined.\n",
    "\n",
    "6. Divide the mixture among four 6-ounce ramekins or custard cups.\n",
    "\n",
    "7. Place the ramekins in a baking dish and add enough hot water to the dish to reach halfway up the sides of the ramekins.\n",
    "\n",
    "8. Bake for 30-35 minutes or until the custard is set but still slightly jiggly in the center.\n",
    "\n",
    "9. Remove the ramekins from the water bath and let cool to room temperature. Refrigerate for at least 2 hours or overnight.\n",
    "\n",
    "10. When ready to serve, sprinkle a thin layer of sugar over the top of each custard. Either use a culinary torch to caramelize the sugar or place the ramekins under a broiler until the sugar is melted and caramelized. Serve immediately.\n",
    "\"\"\"\n",
    "\n",
    "results = db.similarity_search_with_score(test_recipe_2)\n",
    "\n",
    "for doc in results[:3]:\n",
    "    print(\"#\"*50)\n",
    "    print(\"Distance: \", doc[1])\n",
    "    print(doc[0].page_content[:100])\n",
    "    \n",
    "print(\"+\"*19 + \"MMR RESULTS\" + \"+\"*20)\n",
    "# Maximal marginal relevance optimizes for similarity to query AND diversity among selected documents\n",
    "mmr = db.max_marginal_relevance_search(test_recipe_2)\n",
    "for doc in mmr[:3]:\n",
    "    print(\"#\"*50)\n",
    "    print(doc.page_content[:100])\n"
   ]
  },
  {
   "cell_type": "code",
   "execution_count": 7,
   "metadata": {},
   "outputs": [
    {
     "data": {
      "application/vnd.jupyter.widget-view+json": {
       "model_id": "3cc1e41b2428464683f6c8c85b7da107",
       "version_major": 2,
       "version_minor": 0
      },
      "text/plain": [
       "FloatProgress(value=0.0, layout=Layout(width='100%'), style=ProgressStyle(bar_color='black'))"
      ]
     },
     "metadata": {},
     "output_type": "display_data"
    },
    {
     "data": {
      "application/vnd.jupyter.widget-view+json": {
       "model_id": "63be76e3572e40d3ab0acddf4c81ef0e",
       "version_major": 2,
       "version_minor": 0
      },
      "text/plain": [
       "FloatProgress(value=0.0, layout=Layout(width='100%'), style=ProgressStyle(bar_color='black'))"
      ]
     },
     "metadata": {},
     "output_type": "display_data"
    }
   ],
   "source": [
    "# ensure vectors are written to disk\n",
    "db.persist()\n",
    "db = None"
   ]
  },
  {
   "cell_type": "code",
   "execution_count": 11,
   "metadata": {},
   "outputs": [
    {
     "name": "stderr",
     "output_type": "stream",
     "text": [
      "Using embedded DuckDB with persistence: data will be stored in: ../embeddings/chromadb/\n"
     ]
    },
    {
     "data": {
      "application/vnd.jupyter.widget-view+json": {
       "model_id": "993d001382c643578b9d1f5818ee703a",
       "version_major": 2,
       "version_minor": 0
      },
      "text/plain": [
       "FloatProgress(value=0.0, layout=Layout(width='100%'), style=ProgressStyle(bar_color='black'))"
      ]
     },
     "metadata": {},
     "output_type": "display_data"
    }
   ],
   "source": [
    "# Now we can load the persisted database from disk, and use it as normal. \n",
    "db = Chroma(persist_directory=\"../embeddings/chromadb/\", embedding_function=embeddings)"
   ]
  },
  {
   "cell_type": "code",
   "execution_count": 12,
   "metadata": {},
   "outputs": [
    {
     "data": {
      "text/plain": [
       "[(Document(page_content='Recipe title: Vanilla Cream and Glaze . Ingredients: 2 cups whole milk; 1/2 vanilla bean, split lengthwise; 4 large egg yolks; 2/3 cup sugar; 1/4 cup cornstarch; 1/4 teaspoon kosher salt; 2 tablespoons unsalted butter; 1/2 cup powdered sugar. Instructions: Pour milk into a medium saucepan; scrape in vanilla beans and add pod. Heat over medium heat until steaming. Remove vanilla pod; discard. Meanwhile, whisk egg yolks, sugar, cornstarch, and salt in a medium bowl. Whisking constantly, gradually add milk. Return to saucepan and cook over medium-low heat, whisking constantly, until thickened and whisk leaves a trail, about 2 minutes. Remove from heat and whisk in butter until melted and mixture is smooth. Transfer to another medium bowl; press plastic wrap directly onto surface of pastry cream. Chill until set, at least 2 hours or up to 4 days. Whisk powdered sugar and 1 tablespoon water in a small bowl until smooth. Dip 1 side of warm sufganiyot in glaze; fill with vanilla cream.\\nPour milk into a medium saucepan; scrape in vanilla beans and add pod. Heat over medium heat until steaming. Remove vanilla pod; discard.\\nMeanwhile, whisk egg yolks, sugar, cornstarch, and salt in a medium bowl. Whisking constantly, gradually add milk. Return to saucepan and cook over medium-low heat, whisking constantly, until thickened and whisk leaves a trail, about 2 minutes.\\nRemove from heat and whisk in butter until melted and mixture is smooth. Transfer to another medium bowl; press plastic wrap directly onto surface of pastry cream. Chill until set, at least 2 hours or up to 4 days.\\nWhisk powdered sugar and 1 tablespoon water in a small bowl until smooth. Dip 1 side of warm sufganiyot in glaze; fill with vanilla cream.', metadata={}),\n",
       "  0.40821030735969543),\n",
       " (Document(page_content=\"Recipe title: Vanilla Bean Ice Cream. Ingredients: 3 cups heavy cream; 1 cup whole milk; 1 vanilla bean, split lengthwise, seeds scraped out; 10 large egg yolks; 1 cup sugar; Pinch of kosher salt. Instructions: Combine the heavy cream, milk, and vanilla pod and seeds in a large saucepan. Bring to a gentle simmer over medium-high heat, then remove from the heat.\\nWhisk the egg yolks, sugar and salt in a medium bowl. Ladle half of the cream mixture into the egg mixture and whisk to combine; return to the saucepan with the remaining cream mixture. Cook over medium heat, stirring constantly with a wooden spoon in a figure-8 motion, until the custard is thick enough to coat the back of the spoon, about 10 minutes.\\nStrain the custard through a fine-mesh sieve into a blender; discard the vanilla pod. Puree until frothy, about 30 seconds; pour back into the bowl. Cover with plastic wrap and refrigerate at least 3 hours or overnight.\\nTransfer the chilled custard to an ice cream maker and churn according to the manufacturer's instructions. Transfer to a resealable container and freeze until firm, about 2 hours.\\nPhotograph by Kang Kim\", metadata={}),\n",
       "  0.44332942366600037),\n",
       " (Document(page_content='Recipe title: Vanilla-Bean Ice Cream . Ingredients: 2 cups heavy cream; 1 cup whole milk; 3/4 cup sugar; 1/8 teaspoon salt; 3 vanilla beans, split lengthwise; 2 large eggs; Special equipment: an instant-read thermometer. Instructions: Combine cream, milk, sugar, and salt in a heavy saucepan. Scrape seeds from vanilla beans with tip of a knife into cream mixture, then drop in pods. Heat cream mixture just to a boil. Whisk eggs in a large bowl, then add hot cream mixture in a slow stream, whisking. Pour mixture into saucepan and cook over moderately low heat, stirring constantly, until slightly thickened and registers 170°F on thermometer (do not let boil). Pour custard through a fine-mesh sieve into a clean metal bowl, then cool, stirring occasionally. Chill, covered, until cold, at least 3 hours. Freeze custard in an ice cream maker. Transfer to an airtight container and put in freezer.\\nCombine cream, milk, sugar, and salt in a heavy saucepan. Scrape seeds from vanilla beans with tip of a knife into cream mixture, then drop in pods. Heat cream mixture just to a boil.\\nWhisk eggs in a large bowl, then add hot cream mixture in a slow stream, whisking. Pour mixture into saucepan and cook over moderately low heat, stirring constantly, until slightly thickened and registers 170°F on thermometer (do not let boil).\\nPour custard through a fine-mesh sieve into a clean metal bowl, then cool, stirring occasionally. Chill, covered, until cold, at least 3 hours.\\nFreeze custard in an ice cream maker. Transfer to an airtight container and put in freezer.', metadata={}),\n",
       "  0.46760663390159607),\n",
       " (Document(page_content=\"Recipe title: Vanilla Bean Ice Cream . Ingredients: 3 cups heavy cream; 1 cup milk; 1/2 cup granulated sugar; 2 vanilla beans, split in half lengthwise; 1 tablespoon pure vanilla extract; 4 egg yolks. Instructions: 1. Combine the cream, milk, sugar, vanilla beans, and extract in a saucepan over medium heat. Cook until hot but not boiling, about 10 minutes. Remove from the heat. Carefully remove vanilla beans and scrape the softened seeds from the pods back into the saucepan; discard pods. 2. Place yolks in a bowl and whisk constantly, slowly pouring in 1 cup of the hot-milk mixture. Continue to whisk until smooth. 3. Slowly pour the egg mixture into the saucepan, whisking constantly until well combined. Place saucepan over medium heat and stir constantly until the mixture is thick enough to coat the back of a spoon (6 to 8 minutes); it should never boil. Strain mixture into a bowl. Cool to room temperature, then freeze in an ice cream maker according to manufacturer's instructions.\\n1. Combine the cream, milk, sugar, vanilla beans, and extract in a saucepan over medium heat. Cook until hot but not boiling, about 10 minutes. Remove from the heat. Carefully remove vanilla beans and scrape the softened seeds from the pods back into the saucepan; discard pods.\\n2. Place yolks in a bowl and whisk constantly, slowly pouring in 1 cup of the hot-milk mixture. Continue to whisk until smooth.\\n3. Slowly pour the egg mixture into the saucepan, whisking constantly until well combined. Place saucepan over medium heat and stir constantly until the mixture is thick enough to coat the back of a spoon (6 to 8 minutes); it should never boil. Strain mixture into a bowl. Cool to room temperature, then freeze in an ice cream maker according to manufacturer's instructions.\", metadata={}),\n",
       "  0.475818008184433)]"
      ]
     },
     "execution_count": 12,
     "metadata": {},
     "output_type": "execute_result"
    }
   ],
   "source": [
    "db.similarity_search_with_score(test_recipe_2)"
   ]
  }
 ],
 "metadata": {
  "kernelspec": {
   "display_name": "Python 3",
   "language": "python",
   "name": "python3"
  },
  "language_info": {
   "codemirror_mode": {
    "name": "ipython",
    "version": 3
   },
   "file_extension": ".py",
   "mimetype": "text/x-python",
   "name": "python",
   "nbconvert_exporter": "python",
   "pygments_lexer": "ipython3",
   "version": "3.9.16"
  },
  "orig_nbformat": 4,
  "vscode": {
   "interpreter": {
    "hash": "949777d72b0d2535278d3dc13498b2535136f6dfe0678499012e853ee9abcab1"
   }
  }
 },
 "nbformat": 4,
 "nbformat_minor": 2
}
