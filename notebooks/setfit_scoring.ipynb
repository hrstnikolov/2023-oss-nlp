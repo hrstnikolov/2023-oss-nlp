{
 "cells": [
  {
   "cell_type": "code",
   "execution_count": 6,
   "metadata": {},
   "outputs": [
    {
     "name": "stdout",
     "output_type": "stream",
     "text": [
      "CUDA is not available.\n"
     ]
    }
   ],
   "source": [
    "import numpy as np\n",
    "import pandas as pd\n",
    "from pprint import pprint\n",
    "\n",
    "from datasets import Dataset\n",
    "from setfit import SetFitModel\n",
    "\n",
    "from sentence_transformers.losses import CosineSimilarityLoss\n",
    "from setfit import SetFitTrainer\n",
    "\n",
    "import torch\n",
    "\n",
    "if torch.cuda.is_available():\n",
    "    print(\"CUDA is available!\")\n",
    "else:\n",
    "    print(\"CUDA is not available.\")\n",
    "    \n",
    "from data.preprocess_data import combine_json_to_dataframe\n"
   ]
  },
  {
   "cell_type": "code",
   "execution_count": 2,
   "metadata": {},
   "outputs": [],
   "source": [
    "# load data to score\n",
    "recipe_data = combine_json_to_dataframe(\"../data/recipes_raw.zip\")"
   ]
  },
  {
   "cell_type": "code",
   "execution_count": 18,
   "metadata": {},
   "outputs": [],
   "source": [
    "setfit_trainer = torch.load('../models/setfit-recipe-cls.pt', map_location='cpu')\n",
    "# For some reason the map_location does not work on a SetFit model\n",
    "# Thus the below hacky way to get a model trained on a GPU to run on my CPU\n",
    "setfit_trainer.model = setfit_trainer.model.to('cpu')"
   ]
  },
  {
   "cell_type": "code",
   "execution_count": 29,
   "metadata": {},
   "outputs": [],
   "source": [
    "docs = [rec for rec in recipe_data.full_text[:140]]\n",
    "\n",
    "class_predictions = setfit_trainer.model.predict(docs)\n",
    "class_probas = setfit_trainer.model.predict_proba(docs)"
   ]
  },
  {
   "cell_type": "code",
   "execution_count": null,
   "metadata": {},
   "outputs": [],
   "source": [
    "def get_max_index(tensor, col):\n",
    "    max_val, max_idx = torch.max(tensor[:, col], 0)\n",
    "    return max_idx.item()\n",
    "\n",
    "hardest_recipe = get_max_index(class_probas, 3) #hardest recipe\n",
    "\n",
    "pprint(docs[hardest_recipe.values])"
   ]
  }
 ],
 "metadata": {
  "kernelspec": {
   "display_name": "Python 3",
   "language": "python",
   "name": "python3"
  },
  "language_info": {
   "codemirror_mode": {
    "name": "ipython",
    "version": 3
   },
   "file_extension": ".py",
   "mimetype": "text/x-python",
   "name": "python",
   "nbconvert_exporter": "python",
   "pygments_lexer": "ipython3",
   "version": "3.9.16"
  },
  "orig_nbformat": 4
 },
 "nbformat": 4,
 "nbformat_minor": 2
}
