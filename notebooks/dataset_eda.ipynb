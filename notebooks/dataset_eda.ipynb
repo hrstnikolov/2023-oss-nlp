{
 "cells": [
  {
   "cell_type": "code",
   "execution_count": 1,
   "metadata": {},
   "outputs": [],
   "source": [
    "import matplotlib.pyplot as plt\n",
    "\n",
    "from data.preprocess_data import combine_json_to_dataframe\n",
    "# if this does not work, make sure to run sudo python setup.py develop in the terminal to build locally"
   ]
  },
  {
   "cell_type": "code",
   "execution_count": 2,
   "metadata": {},
   "outputs": [],
   "source": [
    "# Call the function with the path to the zip file\n",
    "recipe_data = combine_json_to_dataframe(\"../data/recipes_raw.zip\")"
   ]
  },
  {
   "cell_type": "code",
   "execution_count": 3,
   "metadata": {},
   "outputs": [
    {
     "data": {
      "text/html": [
       "<div>\n",
       "<style scoped>\n",
       "    .dataframe tbody tr th:only-of-type {\n",
       "        vertical-align: middle;\n",
       "    }\n",
       "\n",
       "    .dataframe tbody tr th {\n",
       "        vertical-align: top;\n",
       "    }\n",
       "\n",
       "    .dataframe thead th {\n",
       "        text-align: right;\n",
       "    }\n",
       "</style>\n",
       "<table border=\"1\" class=\"dataframe\">\n",
       "  <thead>\n",
       "    <tr style=\"text-align: right;\">\n",
       "      <th></th>\n",
       "      <th>instructions</th>\n",
       "      <th>ingredients</th>\n",
       "      <th>title</th>\n",
       "      <th>full_text</th>\n",
       "      <th>num_words</th>\n",
       "    </tr>\n",
       "  </thead>\n",
       "  <tbody>\n",
       "    <tr>\n",
       "      <th>DhR03ShKXWl5xZ/wbXnqNOh6zyZ38.C</th>\n",
       "      <td>Preheat oven to 350°F. Toss first 6 ingredient...</td>\n",
       "      <td>[2 1/2 pounds red-skinned sweet potatoes (yams...</td>\n",
       "      <td>Sweet Potato and Apple Puree</td>\n",
       "      <td>Recipe title: Sweet Potato and Apple Puree . I...</td>\n",
       "      <td>245.0</td>\n",
       "    </tr>\n",
       "    <tr>\n",
       "      <th>MamyWtC018zrfvE7OGhaCYKSZqhHBhK</th>\n",
       "      <td>Preheat oven to 400 degrees F.\\nPeel the squas...</td>\n",
       "      <td>[1 medium butternut squash, 1 medium acorn squ...</td>\n",
       "      <td>Baked Squash Rings</td>\n",
       "      <td>Recipe title: Baked Squash Rings. Ingredients:...</td>\n",
       "      <td>87.0</td>\n",
       "    </tr>\n",
       "    <tr>\n",
       "      <th>hTdEt0dvrvWkBmtue/gYClP2Fqm5av2</th>\n",
       "      <td>Pick over beans, rinse and drain. Be sure to n...</td>\n",
       "      <td>[1 cup pinto beans, unsoaked, 4 cups water, 1 ...</td>\n",
       "      <td>Pressure Cooked Pinto Beans</td>\n",
       "      <td>Recipe title: Pressure Cooked Pinto Beans. Ing...</td>\n",
       "      <td>174.0</td>\n",
       "    </tr>\n",
       "    <tr>\n",
       "      <th>FJ0OJnZ8/kYkBfPhkc2zpmsyFEVmt1K</th>\n",
       "      <td>Sift flour, sugar, baking powder, and salt tog...</td>\n",
       "      <td>[1 cup all-purpose flour ADVERTISEMENT, 2 tabl...</td>\n",
       "      <td>Mini Chocolate Chip Pancakes</td>\n",
       "      <td>Recipe title: Mini Chocolate Chip Pancakes. In...</td>\n",
       "      <td>136.0</td>\n",
       "    </tr>\n",
       "    <tr>\n",
       "      <th>DriOGyqOOfBdtHTg5tESDqp3jIYbJRS</th>\n",
       "      <td>Preheat oven to 450°F. Place asparagus in medi...</td>\n",
       "      <td>[1 pound asparagus, trimmed, 1 teaspoon olive ...</td>\n",
       "      <td>Roasted Asparagus Salad with Tangerine Dressing</td>\n",
       "      <td>Recipe title: Roasted Asparagus Salad with Tan...</td>\n",
       "      <td>287.0</td>\n",
       "    </tr>\n",
       "    <tr>\n",
       "      <th>8TImcYIwS7McJXuKF3rcb0Jj8QbA/Ci</th>\n",
       "      <td>HEAT oven to 350 degrees F. Adjust rack to mid...</td>\n",
       "      <td>[Crisco® Original No-Stick Cooking Spray, 1/2 ...</td>\n",
       "      <td>Caramel Apricot Thumbprint Cookies</td>\n",
       "      <td>Recipe title: Caramel Apricot Thumbprint Cooki...</td>\n",
       "      <td>287.0</td>\n",
       "    </tr>\n",
       "    <tr>\n",
       "      <th>s4kzN8KlRCEpkkEdX7aMybt3MFLEdRW</th>\n",
       "      <td>Soak noodles in hot water 10 minutes, then dra...</td>\n",
       "      <td>[4 oz thin rice noodles, 1/4 cup rice vinegar ...</td>\n",
       "      <td>Vietnamese Rice Noodle Salad</td>\n",
       "      <td>Recipe title: Vietnamese Rice Noodle Salad . I...</td>\n",
       "      <td>204.0</td>\n",
       "    </tr>\n",
       "    <tr>\n",
       "      <th>9H4LUx7WiblKYAKQIncpq0.IUOTa17q</th>\n",
       "      <td>Watch how to make this recipe.\\nAdd all the mi...</td>\n",
       "      <td>[3 eggs, separated, whites reserved for Cinnam...</td>\n",
       "      <td>Countdown # 8 Eggnog Pumpkin Milk Shake with C...</td>\n",
       "      <td>Recipe title: Countdown # 8 Eggnog Pumpkin Mil...</td>\n",
       "      <td>211.0</td>\n",
       "    </tr>\n",
       "    <tr>\n",
       "      <th>zWlCzpe6vZnoOU9vDIeaNNp4VR/39M6</th>\n",
       "      <td>Combine cheese food, pimento peppers, tarragon...</td>\n",
       "      <td>[1 (2 pound) loaf processed cheese food (such ...</td>\n",
       "      <td>Aunt Erma Lee's Smooth and Creamy Pimento Cheese</td>\n",
       "      <td>Recipe title: Aunt Erma Lee's Smooth and Cream...</td>\n",
       "      <td>104.0</td>\n",
       "    </tr>\n",
       "    <tr>\n",
       "      <th>QhmPPmqPdz4QvWrPpa.zWsaO6ZGXBga</th>\n",
       "      <td>Whisk together the orange juice, lemon juice, ...</td>\n",
       "      <td>[2 tablespoons orange juice, 1 tablespoon lemo...</td>\n",
       "      <td>Crunchy Fennel and Green Apple Salad</td>\n",
       "      <td>Recipe title: Crunchy Fennel and Green Apple S...</td>\n",
       "      <td>82.0</td>\n",
       "    </tr>\n",
       "  </tbody>\n",
       "</table>\n",
       "</div>"
      ],
      "text/plain": [
       "                                                                      instructions  \\\n",
       "DhR03ShKXWl5xZ/wbXnqNOh6zyZ38.C  Preheat oven to 350°F. Toss first 6 ingredient...   \n",
       "MamyWtC018zrfvE7OGhaCYKSZqhHBhK  Preheat oven to 400 degrees F.\\nPeel the squas...   \n",
       "hTdEt0dvrvWkBmtue/gYClP2Fqm5av2  Pick over beans, rinse and drain. Be sure to n...   \n",
       "FJ0OJnZ8/kYkBfPhkc2zpmsyFEVmt1K  Sift flour, sugar, baking powder, and salt tog...   \n",
       "DriOGyqOOfBdtHTg5tESDqp3jIYbJRS  Preheat oven to 450°F. Place asparagus in medi...   \n",
       "8TImcYIwS7McJXuKF3rcb0Jj8QbA/Ci  HEAT oven to 350 degrees F. Adjust rack to mid...   \n",
       "s4kzN8KlRCEpkkEdX7aMybt3MFLEdRW  Soak noodles in hot water 10 minutes, then dra...   \n",
       "9H4LUx7WiblKYAKQIncpq0.IUOTa17q  Watch how to make this recipe.\\nAdd all the mi...   \n",
       "zWlCzpe6vZnoOU9vDIeaNNp4VR/39M6  Combine cheese food, pimento peppers, tarragon...   \n",
       "QhmPPmqPdz4QvWrPpa.zWsaO6ZGXBga  Whisk together the orange juice, lemon juice, ...   \n",
       "\n",
       "                                                                       ingredients  \\\n",
       "DhR03ShKXWl5xZ/wbXnqNOh6zyZ38.C  [2 1/2 pounds red-skinned sweet potatoes (yams...   \n",
       "MamyWtC018zrfvE7OGhaCYKSZqhHBhK  [1 medium butternut squash, 1 medium acorn squ...   \n",
       "hTdEt0dvrvWkBmtue/gYClP2Fqm5av2  [1 cup pinto beans, unsoaked, 4 cups water, 1 ...   \n",
       "FJ0OJnZ8/kYkBfPhkc2zpmsyFEVmt1K  [1 cup all-purpose flour ADVERTISEMENT, 2 tabl...   \n",
       "DriOGyqOOfBdtHTg5tESDqp3jIYbJRS  [1 pound asparagus, trimmed, 1 teaspoon olive ...   \n",
       "8TImcYIwS7McJXuKF3rcb0Jj8QbA/Ci  [Crisco® Original No-Stick Cooking Spray, 1/2 ...   \n",
       "s4kzN8KlRCEpkkEdX7aMybt3MFLEdRW  [4 oz thin rice noodles, 1/4 cup rice vinegar ...   \n",
       "9H4LUx7WiblKYAKQIncpq0.IUOTa17q  [3 eggs, separated, whites reserved for Cinnam...   \n",
       "zWlCzpe6vZnoOU9vDIeaNNp4VR/39M6  [1 (2 pound) loaf processed cheese food (such ...   \n",
       "QhmPPmqPdz4QvWrPpa.zWsaO6ZGXBga  [2 tablespoons orange juice, 1 tablespoon lemo...   \n",
       "\n",
       "                                                                             title  \\\n",
       "DhR03ShKXWl5xZ/wbXnqNOh6zyZ38.C                      Sweet Potato and Apple Puree    \n",
       "MamyWtC018zrfvE7OGhaCYKSZqhHBhK                                 Baked Squash Rings   \n",
       "hTdEt0dvrvWkBmtue/gYClP2Fqm5av2                        Pressure Cooked Pinto Beans   \n",
       "FJ0OJnZ8/kYkBfPhkc2zpmsyFEVmt1K                       Mini Chocolate Chip Pancakes   \n",
       "DriOGyqOOfBdtHTg5tESDqp3jIYbJRS   Roasted Asparagus Salad with Tangerine Dressing    \n",
       "8TImcYIwS7McJXuKF3rcb0Jj8QbA/Ci                 Caramel Apricot Thumbprint Cookies   \n",
       "s4kzN8KlRCEpkkEdX7aMybt3MFLEdRW                      Vietnamese Rice Noodle Salad    \n",
       "9H4LUx7WiblKYAKQIncpq0.IUOTa17q  Countdown # 8 Eggnog Pumpkin Milk Shake with C...   \n",
       "zWlCzpe6vZnoOU9vDIeaNNp4VR/39M6   Aunt Erma Lee's Smooth and Creamy Pimento Cheese   \n",
       "QhmPPmqPdz4QvWrPpa.zWsaO6ZGXBga               Crunchy Fennel and Green Apple Salad   \n",
       "\n",
       "                                                                         full_text  \\\n",
       "DhR03ShKXWl5xZ/wbXnqNOh6zyZ38.C  Recipe title: Sweet Potato and Apple Puree . I...   \n",
       "MamyWtC018zrfvE7OGhaCYKSZqhHBhK  Recipe title: Baked Squash Rings. Ingredients:...   \n",
       "hTdEt0dvrvWkBmtue/gYClP2Fqm5av2  Recipe title: Pressure Cooked Pinto Beans. Ing...   \n",
       "FJ0OJnZ8/kYkBfPhkc2zpmsyFEVmt1K  Recipe title: Mini Chocolate Chip Pancakes. In...   \n",
       "DriOGyqOOfBdtHTg5tESDqp3jIYbJRS  Recipe title: Roasted Asparagus Salad with Tan...   \n",
       "8TImcYIwS7McJXuKF3rcb0Jj8QbA/Ci  Recipe title: Caramel Apricot Thumbprint Cooki...   \n",
       "s4kzN8KlRCEpkkEdX7aMybt3MFLEdRW  Recipe title: Vietnamese Rice Noodle Salad . I...   \n",
       "9H4LUx7WiblKYAKQIncpq0.IUOTa17q  Recipe title: Countdown # 8 Eggnog Pumpkin Mil...   \n",
       "zWlCzpe6vZnoOU9vDIeaNNp4VR/39M6  Recipe title: Aunt Erma Lee's Smooth and Cream...   \n",
       "QhmPPmqPdz4QvWrPpa.zWsaO6ZGXBga  Recipe title: Crunchy Fennel and Green Apple S...   \n",
       "\n",
       "                                 num_words  \n",
       "DhR03ShKXWl5xZ/wbXnqNOh6zyZ38.C      245.0  \n",
       "MamyWtC018zrfvE7OGhaCYKSZqhHBhK       87.0  \n",
       "hTdEt0dvrvWkBmtue/gYClP2Fqm5av2      174.0  \n",
       "FJ0OJnZ8/kYkBfPhkc2zpmsyFEVmt1K      136.0  \n",
       "DriOGyqOOfBdtHTg5tESDqp3jIYbJRS      287.0  \n",
       "8TImcYIwS7McJXuKF3rcb0Jj8QbA/Ci      287.0  \n",
       "s4kzN8KlRCEpkkEdX7aMybt3MFLEdRW      204.0  \n",
       "9H4LUx7WiblKYAKQIncpq0.IUOTa17q      211.0  \n",
       "zWlCzpe6vZnoOU9vDIeaNNp4VR/39M6      104.0  \n",
       "QhmPPmqPdz4QvWrPpa.zWsaO6ZGXBga       82.0  "
      ]
     },
     "execution_count": 3,
     "metadata": {},
     "output_type": "execute_result"
    }
   ],
   "source": [
    "recipe_data.sample(10, random_state = 2023)"
   ]
  },
  {
   "cell_type": "code",
   "execution_count": 4,
   "metadata": {},
   "outputs": [
    {
     "data": {
      "text/plain": [
       "'Recipe title: Sweet Potato and Apple Puree . Ingredients: 2 1/2 pounds red-skinned sweet potatoes (yams), peeled, cut into 1-inch cubes; 1 medium onion, cut into 1/2-inch cubes; 1/4 cup olive oil; 1 teaspoon fine sea salt; 1/2 teaspoon freshly ground black pepper; 1/4 teaspoon cayenne pepper; 1 1/2 pounds Granny Smith apples, peeled, cored, cut into 1-inch cubes; 1/2 cup heavy whipping cream. Instructions: Preheat oven to 350°F. Toss first 6 ingredients in large bowl. Transfer mixture to 13x9x2-inch glass baking dish. Cover with foil; bake until vegetables are almost soft, about 40 minutes. Mix in apples. Cover and bake until sweet potatoes and apples are very tender, about 30 minutes longer. Cool slightly. Transfer mixture to processor and puree until smooth. Transfer to microwave-safe bowl. DO AHEAD: Can be made 1 day ahead. Cover and chill. Stir cream into sweet potato-apple puree. Microwave on high until heated through, about 4 minutes. Serve hot.\\nPreheat oven to 350°F. Toss first 6 ingredients in large bowl. Transfer mixture to 13x9x2-inch glass baking dish. Cover with foil; bake until vegetables are almost soft, about 40 minutes. Mix in apples. Cover and bake until sweet potatoes and apples are very tender, about 30 minutes longer. Cool slightly.\\nTransfer mixture to processor and puree until smooth. Transfer to microwave-safe bowl. DO AHEAD: Can be made 1 day ahead. Cover and chill.\\nStir cream into sweet potato-apple puree. Microwave on high until heated through, about 4 minutes. Serve hot.'"
      ]
     },
     "execution_count": 4,
     "metadata": {},
     "output_type": "execute_result"
    }
   ],
   "source": [
    "recipe_data.sample(10, random_state = 2023).full_text.iloc[0]"
   ]
  },
  {
   "cell_type": "code",
   "execution_count": 5,
   "metadata": {},
   "outputs": [
    {
     "data": {
      "text/plain": [
       "count    124434.000000\n",
       "mean        239.985213\n",
       "std         173.153964\n",
       "min          21.000000\n",
       "25%         130.000000\n",
       "50%         196.000000\n",
       "75%         296.000000\n",
       "max        5542.000000\n",
       "Name: num_words, dtype: float64"
      ]
     },
     "execution_count": 5,
     "metadata": {},
     "output_type": "execute_result"
    }
   ],
   "source": [
    "recipe_data.num_words.describe()"
   ]
  },
  {
   "cell_type": "code",
   "execution_count": 7,
   "metadata": {},
   "outputs": [
    {
     "data": {
      "image/png": "[encoded data removed]",
      "text/plain": [
       "<Figure size 640x480 with 1 Axes>"
      ]
     },
     "metadata": {},
     "output_type": "display_data"
    }
   ],
   "source": [
    "# Create a histogram of the number of words\n",
    "(recipe_data['num_words'].\n",
    " clip(upper=1000). # Set max on 1000 for better plotting outliers\n",
    " plot.hist(bins = 50)\n",
    " )\n",
    "plt.xlabel('Number of Words')\n",
    "plt.ylabel('Frequency')\n",
    "plt.title('Number of words per recipe')\n",
    "plt.show()"
   ]
  },
  {
   "cell_type": "code",
   "execution_count": 13,
   "metadata": {},
   "outputs": [
    {
     "name": "stdout",
     "output_type": "stream",
     "text": [
      "The dataset has approximately 236833 different tokens.\n"
     ]
    }
   ],
   "source": [
    "recipes_in_one_string = ' '.join(recipe_data['full_text'].to_list())\n",
    "print(f\"The dataset has approximately {len(set(recipes_in_one_string.split(' ')))} different tokens.\")"
   ]
  },
  {
   "cell_type": "code",
   "execution_count": null,
   "metadata": {},
   "outputs": [],
   "source": []
  }
 ],
 "metadata": {
  "kernelspec": {
   "display_name": "Python 3",
   "language": "python",
   "name": "python3"
  },
  "language_info": {
   "codemirror_mode": {
    "name": "ipython",
    "version": 3
   },
   "file_extension": ".py",
   "mimetype": "text/x-python",
   "name": "python",
   "nbconvert_exporter": "python",
   "pygments_lexer": "ipython3",
   "version": "3.9.16"
  },
  "orig_nbformat": 4,
  "vscode": {
   "interpreter": {
    "hash": "949777d72b0d2535278d3dc13498b2535136f6dfe0678499012e853ee9abcab1"
   }
  }
 },
 "nbformat": 4,
 "nbformat_minor": 2
}
