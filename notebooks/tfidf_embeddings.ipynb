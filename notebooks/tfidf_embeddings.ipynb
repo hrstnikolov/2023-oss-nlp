{
 "cells": [
  {
   "cell_type": "code",
   "execution_count": 1,
   "metadata": {},
   "outputs": [
    {
     "ename": "ModuleNotFoundError",
     "evalue": "No module named 'data'",
     "output_type": "error",
     "traceback": [
      "\u001b[1;31m---------------------------------------------------------------------------\u001b[0m",
      "\u001b[1;31mModuleNotFoundError\u001b[0m                       Traceback (most recent call last)",
      "Cell \u001b[1;32mIn[1], line 6\u001b[0m\n\u001b[0;32m      3\u001b[0m \u001b[38;5;28;01mfrom\u001b[39;00m \u001b[38;5;21;01msklearn\u001b[39;00m\u001b[38;5;21;01m.\u001b[39;00m\u001b[38;5;21;01mmetrics\u001b[39;00m\u001b[38;5;21;01m.\u001b[39;00m\u001b[38;5;21;01mpairwise\u001b[39;00m \u001b[38;5;28;01mimport\u001b[39;00m cosine_similarity\n\u001b[0;32m      4\u001b[0m \u001b[38;5;28;01mfrom\u001b[39;00m \u001b[38;5;21;01mjoblib\u001b[39;00m \u001b[38;5;28;01mimport\u001b[39;00m dump, load\n\u001b[1;32m----> 6\u001b[0m \u001b[38;5;28;01mfrom\u001b[39;00m \u001b[38;5;21;01mdata\u001b[39;00m\u001b[38;5;21;01m.\u001b[39;00m\u001b[38;5;21;01mpreprocess_data\u001b[39;00m \u001b[38;5;28;01mimport\u001b[39;00m combine_json_to_dataframe\n",
      "\u001b[1;31mModuleNotFoundError\u001b[0m: No module named 'data'"
     ]
    }
   ],
   "source": [
    "from sklearn.feature_extraction.text import TfidfVectorizer\n",
    "import numpy as np\n",
    "from sklearn.metrics.pairwise import cosine_similarity\n",
    "from joblib import dump, load\n",
    "\n",
    "from data.preprocess_data import combine_json_to_dataframe"
   ]
  },
  {
   "cell_type": "code",
   "execution_count": 10,
   "metadata": {},
   "outputs": [
    {
     "name": "stdout",
     "output_type": "stream",
     "text": [
      "<class 'pandas.core.frame.DataFrame'>\n",
      "Index: 124434 entries, p3pKOD6jIHEcjf20CCXohP8uqkG5dGi to 2Q3Zpfgt/PUwn1YABjJ5A9T3ZW8xwVa\n",
      "Data columns (total 5 columns):\n",
      " #   Column        Non-Null Count   Dtype  \n",
      "---  ------        --------------   -----  \n",
      " 0   instructions  124434 non-null  object \n",
      " 1   ingredients   124434 non-null  object \n",
      " 2   title         124434 non-null  object \n",
      " 3   full_text     124434 non-null  object \n",
      " 4   num_words     124434 non-null  float64\n",
      "dtypes: float64(1), object(4)\n",
      "memory usage: 5.7+ MB\n"
     ]
    }
   ],
   "source": [
    "# Call the function with the path to the zip file\n",
    "recipe_data = combine_json_to_dataframe(\"../data/recipes_raw.zip\")\n",
    "\n",
    "recipe_data.info(verbose=True)"
   ]
  },
  {
   "cell_type": "code",
   "execution_count": 11,
   "metadata": {},
   "outputs": [
    {
     "name": "stdout",
     "output_type": "stream",
     "text": [
      "(124434, 30000)\n",
      "Note that the rows are the number of documents, while the columns equal the number of tokens\n"
     ]
    }
   ],
   "source": [
    "vectoriser = TfidfVectorizer(\n",
    "    stop_words='english', # default is without it, but this decreases the dictionary size significantly\n",
    "    min_df = 2, # Ignore terms that have a document frequency strictly lower than the given threshold. When float, proportion of docs.\n",
    "    max_df = 0.95, # ignore terms that have a document frequency strictly higher than the given threshold (corpus-specific stop words).\n",
    "    ngram_range=(1,2), # uni and bi-grams\n",
    "    max_features=30_000, # unigrams are ca. 22K, get top 8000 bigrams\n",
    "    dtype=np.float32 # Reduces the size of the resulting array without much quality sacrifice, default is float64\n",
    ")\n",
    "\n",
    "embeddings = vectoriser.fit_transform(recipe_data.full_text)\n",
    "print(embeddings.shape)\n",
    "print(\"Note that the rows are the number of documents, while the columns equal the number of tokens\")"
   ]
  },
  {
   "cell_type": "code",
   "execution_count": 12,
   "metadata": {},
   "outputs": [
    {
     "name": "stdout",
     "output_type": "stream",
     "text": [
      "['10' '10 11' '10 12' ... 'zucchini yellow' 'zucchinis' 'árbol']\n",
      "30000\n"
     ]
    }
   ],
   "source": [
    "print(vectoriser.get_feature_names_out())\n",
    "print(len(vectoriser.get_feature_names_out()))"
   ]
  },
  {
   "cell_type": "code",
   "execution_count": 13,
   "metadata": {},
   "outputs": [],
   "source": [
    "def get_most_similar_doc(text, vectorized_corpus, original_data, vectoriser=vectoriser, top_n = 5):\n",
    "    new_doc_vector = vectoriser.transform(text)\n",
    "    sim = cosine_similarity(X = vectorized_corpus, Y = new_doc_vector).flatten()\n",
    "    argmax = np.argpartition(sim, -top_n)[-top_n:]\n",
    "    return(\n",
    "        (original_data.\n",
    "         iloc[argmax].\n",
    "         assign(similarity = sim[argmax]).\n",
    "         loc[:, ['title', 'ingredients', 'similarity']].\n",
    "         sort_values('similarity', ascending = False).\n",
    "         reset_index(drop=True)\n",
    "         )\n",
    "\n",
    "    )"
   ]
  },
  {
   "cell_type": "code",
   "execution_count": 14,
   "metadata": {},
   "outputs": [
    {
     "data": {
      "text/html": [
       "<div>\n",
       "<style scoped>\n",
       "    .dataframe tbody tr th:only-of-type {\n",
       "        vertical-align: middle;\n",
       "    }\n",
       "\n",
       "    .dataframe tbody tr th {\n",
       "        vertical-align: top;\n",
       "    }\n",
       "\n",
       "    .dataframe thead th {\n",
       "        text-align: right;\n",
       "    }\n",
       "</style>\n",
       "<table border=\"1\" class=\"dataframe\">\n",
       "  <thead>\n",
       "    <tr style=\"text-align: right;\">\n",
       "      <th></th>\n",
       "      <th>title</th>\n",
       "      <th>ingredients</th>\n",
       "      <th>similarity</th>\n",
       "    </tr>\n",
       "  </thead>\n",
       "  <tbody>\n",
       "    <tr>\n",
       "      <th>0</th>\n",
       "      <td>Wiener Schnitzel (Breaded Veal Cutlets)</td>\n",
       "      <td>[8 slices white bread, crusts removed, Flour f...</td>\n",
       "      <td>0.392512</td>\n",
       "    </tr>\n",
       "    <tr>\n",
       "      <th>1</th>\n",
       "      <td>Torta Milanesa</td>\n",
       "      <td>[Four 4-ounce chicken cutlets (about 1/4-inch ...</td>\n",
       "      <td>0.371962</td>\n",
       "    </tr>\n",
       "    <tr>\n",
       "      <th>2</th>\n",
       "      <td>Schnitzelwiches Holstein</td>\n",
       "      <td>[1 cup all-purpose flour, 6 large eggs, 1 cup ...</td>\n",
       "      <td>0.368389</td>\n",
       "    </tr>\n",
       "    <tr>\n",
       "      <th>3</th>\n",
       "      <td>Turkey Cutlets Milanese</td>\n",
       "      <td>[1 1/2 pounds turkey cutlets (about 1/4-inch t...</td>\n",
       "      <td>0.367490</td>\n",
       "    </tr>\n",
       "    <tr>\n",
       "      <th>4</th>\n",
       "      <td>Turkey Cutlets Milanese with Watercress Salad</td>\n",
       "      <td>[3/4 pound turkey cutlets (about 1/4-inch thic...</td>\n",
       "      <td>0.366260</td>\n",
       "    </tr>\n",
       "  </tbody>\n",
       "</table>\n",
       "</div>"
      ],
      "text/plain": [
       "                                            title  \\\n",
       "0         Wiener Schnitzel (Breaded Veal Cutlets)   \n",
       "1                                  Torta Milanesa   \n",
       "2                        Schnitzelwiches Holstein   \n",
       "3                         Turkey Cutlets Milanese   \n",
       "4  Turkey Cutlets Milanese with Watercress Salad    \n",
       "\n",
       "                                         ingredients  similarity  \n",
       "0  [8 slices white bread, crusts removed, Flour f...    0.392512  \n",
       "1  [Four 4-ounce chicken cutlets (about 1/4-inch ...    0.371962  \n",
       "2  [1 cup all-purpose flour, 6 large eggs, 1 cup ...    0.368389  \n",
       "3  [1 1/2 pounds turkey cutlets (about 1/4-inch t...    0.367490  \n",
       "4  [3/4 pound turkey cutlets (about 1/4-inch thic...    0.366260  "
      ]
     },
     "execution_count": 14,
     "metadata": {},
     "output_type": "execute_result"
    }
   ],
   "source": [
    "test_recipe = [\"\"\"\n",
    "Ingredients:\n",
    "\n",
    "4 veal cutlets (or pork if you can't find veal)\n",
    "Salt\n",
    "Pepper\n",
    "1 cup flour\n",
    "2 eggs\n",
    "1 cup breadcrumbs (preferably made from stale bread)\n",
    "1/2 cup vegetable oil (for frying)\n",
    "1 lemon (optional)\n",
    "Instructions:\n",
    "\n",
    "Pound the cutlets with a meat mallet until they are about 1/4 inch thick. Season both sides with salt and pepper.\n",
    "\n",
    "Place the flour in a shallow dish. In another dish, beat the eggs. In a third dish, place the breadcrumbs.\n",
    "\n",
    "Coat each cutlet with flour, shaking off any excess. Dip it into the beaten eggs, and then coat with the breadcrumbs. Repeat this for all of the cutlets.\n",
    "\n",
    "Heat the vegetable oil in a large frying pan until hot.\n",
    "\n",
    "Fry each cutlet for about 2-3 minutes on each side, or until golden brown and crispy. Be careful not to overcrowd the pan, you may need to fry them in batches.\n",
    "\n",
    "Remove the cutlets from the pan with a slotted spoon and place them on paper towels to drain any excess oil.\n",
    "\n",
    "\"\"\"]\n",
    "\n",
    "get_most_similar_doc(text = test_recipe, \n",
    "                     vectorized_corpus = embeddings, \n",
    "                     original_data = recipe_data)"
   ]
  },
  {
   "cell_type": "code",
   "execution_count": 15,
   "metadata": {},
   "outputs": [
    {
     "data": {
      "text/html": [
       "<div>\n",
       "<style scoped>\n",
       "    .dataframe tbody tr th:only-of-type {\n",
       "        vertical-align: middle;\n",
       "    }\n",
       "\n",
       "    .dataframe tbody tr th {\n",
       "        vertical-align: top;\n",
       "    }\n",
       "\n",
       "    .dataframe thead th {\n",
       "        text-align: right;\n",
       "    }\n",
       "</style>\n",
       "<table border=\"1\" class=\"dataframe\">\n",
       "  <thead>\n",
       "    <tr style=\"text-align: right;\">\n",
       "      <th></th>\n",
       "      <th>title</th>\n",
       "      <th>ingredients</th>\n",
       "      <th>similarity</th>\n",
       "    </tr>\n",
       "  </thead>\n",
       "  <tbody>\n",
       "    <tr>\n",
       "      <th>0</th>\n",
       "      <td>Creme Brulee</td>\n",
       "      <td>[1 quart heavy cream, 1 vanilla bean, split, o...</td>\n",
       "      <td>0.452146</td>\n",
       "    </tr>\n",
       "    <tr>\n",
       "      <th>1</th>\n",
       "      <td>Vanilla Creme Brulee</td>\n",
       "      <td>[1 vanilla bean, 2 cups heavy cream, 2 cups ha...</td>\n",
       "      <td>0.450293</td>\n",
       "    </tr>\n",
       "    <tr>\n",
       "      <th>2</th>\n",
       "      <td>Chocolate Creme Brulee</td>\n",
       "      <td>[4 cups heavy whipping cream ADVERTISEMENT, 1 ...</td>\n",
       "      <td>0.439187</td>\n",
       "    </tr>\n",
       "    <tr>\n",
       "      <th>3</th>\n",
       "      <td>Vanilla Creme Brulee</td>\n",
       "      <td>[1 vanilla bean, 2 cups heavy cream, 2 cups ha...</td>\n",
       "      <td>0.437355</td>\n",
       "    </tr>\n",
       "    <tr>\n",
       "      <th>4</th>\n",
       "      <td>Chocolate Sprinkled Creme Brulee</td>\n",
       "      <td>[2 1/3 cups heavy cream, 1/3 cup half-and-half...</td>\n",
       "      <td>0.435901</td>\n",
       "    </tr>\n",
       "  </tbody>\n",
       "</table>\n",
       "</div>"
      ],
      "text/plain": [
       "                              title  \\\n",
       "0                      Creme Brulee   \n",
       "1              Vanilla Creme Brulee   \n",
       "2            Chocolate Creme Brulee   \n",
       "3              Vanilla Creme Brulee   \n",
       "4  Chocolate Sprinkled Creme Brulee   \n",
       "\n",
       "                                         ingredients  similarity  \n",
       "0  [1 quart heavy cream, 1 vanilla bean, split, o...    0.452146  \n",
       "1  [1 vanilla bean, 2 cups heavy cream, 2 cups ha...    0.450293  \n",
       "2  [4 cups heavy whipping cream ADVERTISEMENT, 1 ...    0.439187  \n",
       "3  [1 vanilla bean, 2 cups heavy cream, 2 cups ha...    0.437355  \n",
       "4  [2 1/3 cups heavy cream, 1/3 cup half-and-half...    0.435901  "
      ]
     },
     "execution_count": 15,
     "metadata": {},
     "output_type": "execute_result"
    }
   ],
   "source": [
    "test_recipe_2 = [\n",
    "    \"\"\"Ingredients:\n",
    "- 2 cups heavy cream\n",
    "- 1 vanilla bean, split and scraped or 1 tsp vanilla extract\n",
    "- 5 egg yolks\n",
    "- 1/2 cup granulated sugar, plus more for caramelizing\n",
    "\n",
    "Instructions:\n",
    "\n",
    "1. Preheat the oven to 325°F.\n",
    "\n",
    "2. In a medium saucepan, heat the cream and vanilla bean (both the seeds and the pod) over medium heat until it just begins to simmer. Remove from heat and let sit for 15 minutes to infuse the vanilla flavor.\n",
    "\n",
    "3. Whisk together the egg yolks and sugar in a medium bowl until light and fluffy.\n",
    "\n",
    "4. Remove the vanilla pod from the cream and scrape the seeds back into the cream. Discard the pod.\n",
    "\n",
    "5. Slowly add the cream to the egg mixture, whisking constantly, until well combined.\n",
    "\n",
    "6. Divide the mixture among four 6-ounce ramekins or custard cups.\n",
    "\n",
    "7. Place the ramekins in a baking dish and add enough hot water to the dish to reach halfway up the sides of the ramekins.\n",
    "\n",
    "8. Bake for 30-35 minutes or until the custard is set but still slightly jiggly in the center.\n",
    "\n",
    "9. Remove the ramekins from the water bath and let cool to room temperature. Refrigerate for at least 2 hours or overnight.\n",
    "\n",
    "10. When ready to serve, sprinkle a thin layer of sugar over the top of each custard. Either use a culinary torch to caramelize the sugar or place the ramekins under a broiler until the sugar is melted and caramelized. Serve immediately.\n",
    "\"\"\"\n",
    "]\n",
    "\n",
    "get_most_similar_doc(text = test_recipe_2, \n",
    "                     vectorized_corpus = embeddings, \n",
    "                     original_data = recipe_data)"
   ]
  },
  {
   "cell_type": "markdown",
   "metadata": {},
   "source": [
    "## Save model and embeddings"
   ]
  },
  {
   "cell_type": "code",
   "execution_count": 16,
   "metadata": {},
   "outputs": [
    {
     "data": {
      "text/plain": [
       "['../embeddings/tfidf_embeddings.joblib']"
      ]
     },
     "execution_count": 16,
     "metadata": {},
     "output_type": "execute_result"
    }
   ],
   "source": [
    "dump(vectoriser, \"../models/tfidf.joblib\")\n",
    "dump(embeddings, \"../embeddings/tfidf_embeddings.joblib\")"
   ]
  }
 ],
 "metadata": {
  "kernelspec": {
   "display_name": "Python 3 (ipykernel)",
   "language": "python",
   "name": "python3"
  },
  "language_info": {
   "codemirror_mode": {
    "name": "ipython",
    "version": 3
   },
   "file_extension": ".py",
   "mimetype": "text/x-python",
   "name": "python",
   "nbconvert_exporter": "python",
   "pygments_lexer": "ipython3",
   "version": "3.10.9"
  },
  "vscode": {
   "interpreter": {
    "hash": "949777d72b0d2535278d3dc13498b2535136f6dfe0678499012e853ee9abcab1"
   }
  }
 },
 "nbformat": 4,
 "nbformat_minor": 4
}
