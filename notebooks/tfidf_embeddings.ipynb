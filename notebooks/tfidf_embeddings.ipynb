{
 "cells": [
  {
   "cell_type": "code",
   "execution_count": 9,
   "metadata": {},
   "outputs": [],
   "source": [
    "from sklearn.feature_extraction.text import TfidfVectorizer\n",
    "import numpy as np\n",
    "from sklearn.metrics.pairwise import cosine_similarity\n",
    "from joblib import dump, load\n",
    "\n",
    "from data.preprocess_data import combine_json_to_dataframe"
   ]
  },
  {
   "cell_type": "code",
   "execution_count": 2,
   "metadata": {},
   "outputs": [
    {
     "name": "stdout",
     "output_type": "stream",
     "text": [
      "<class 'pandas.core.frame.DataFrame'>\n",
      "Index: 124434 entries, p3pKOD6jIHEcjf20CCXohP8uqkG5dGi to 2Q3Zpfgt/PUwn1YABjJ5A9T3ZW8xwVa\n",
      "Data columns (total 5 columns):\n",
      " #   Column        Non-Null Count   Dtype  \n",
      "---  ------        --------------   -----  \n",
      " 0   instructions  124434 non-null  object \n",
      " 1   ingredients   124434 non-null  object \n",
      " 2   title         124434 non-null  object \n",
      " 3   full_text     124434 non-null  object \n",
      " 4   num_words     124434 non-null  float64\n",
      "dtypes: float64(1), object(4)\n",
      "memory usage: 5.7+ MB\n"
     ]
    }
   ],
   "source": [
    "# Call the function with the path to the zip file\n",
    "recipe_data = combine_json_to_dataframe(\"../data/recipes_raw.zip\")\n",
    "\n",
    "recipe_data.info(verbose=True)"
   ]
  },
  {
   "cell_type": "code",
   "execution_count": 3,
   "metadata": {},
   "outputs": [
    {
     "name": "stdout",
     "output_type": "stream",
     "text": [
      "(124434, 30000)\n",
      "Note that the rows are the number of documents, while the columns equal the number of tokens\n"
     ]
    }
   ],
   "source": [
    "vectoriser = TfidfVectorizer(\n",
    "    stop_words='english', # default is without it, but this decreases the dictionary size significantly\n",
    "    min_df = 2, # Ignore terms that have a document frequency strictly lower than the given threshold. When float, proportion of docs.\n",
    "    max_df = 0.95, # ignore terms that have a document frequency strictly higher than the given threshold (corpus-specific stop words).\n",
    "    ngram_range=(1,2), # uni and bi-grams\n",
    "    max_features=30_000, # unigrams are ca. 22K, get top 8000 bigrams\n",
    "    dtype=np.float32 # Reduces the size of the resulting array without much quality sacrifice, default is float64\n",
    ")\n",
    "\n",
    "embeddings = vectoriser.fit_transform(recipe_data.full_text)\n",
    "print(embeddings.shape)\n",
    "print(\"Note that the rows are the number of documents, while the columns equal the number of tokens\")"
   ]
  },
  {
   "cell_type": "code",
   "execution_count": 4,
   "metadata": {},
   "outputs": [
    {
     "name": "stdout",
     "output_type": "stream",
     "text": [
      "['10' '10 11' '10 12' ... 'zucchini yellow' 'zucchinis' 'árbol']\n",
      "30000\n"
     ]
    }
   ],
   "source": [
    "print(vectoriser.get_feature_names_out())\n",
    "print(len(vectoriser.get_feature_names_out()))"
   ]
  },
  {
   "cell_type": "code",
   "execution_count": 5,
   "metadata": {},
   "outputs": [],
   "source": [
    "def get_most_similar_doc(text, vectorized_corpus, original_data, vectoriser=vectoriser, top_n = 5):\n",
    "    new_doc_vector = vectoriser.transform(text)\n",
    "    sim = cosine_similarity(X = vectorized_corpus, Y = new_doc_vector).flatten()\n",
    "    argmax = np.argpartition(sim, -top_n)[-top_n:]\n",
    "    return(\n",
    "        (original_data.\n",
    "         iloc[argmax].\n",
    "         assign(similarity = sim[argmax]).\n",
    "         loc[:, ['title', 'ingredients', 'similarity']].\n",
    "         sort_values('similarity', ascending = False).\n",
    "         reset_index(drop=True)\n",
    "         )\n",
    "\n",
    "    )"
   ]
  },
  {
   "cell_type": "code",
   "execution_count": 6,
   "metadata": {},
   "outputs": [
    {
     "data": {
      "text/html": [
       "<div>\n",
       "<style scoped>\n",
       "    .dataframe tbody tr th:only-of-type {\n",
       "        vertical-align: middle;\n",
       "    }\n",
       "\n",
       "    .dataframe tbody tr th {\n",
       "        vertical-align: top;\n",
       "    }\n",
       "\n",
       "    .dataframe thead th {\n",
       "        text-align: right;\n",
       "    }\n",
       "</style>\n",
       "<table border=\"1\" class=\"dataframe\">\n",
       "  <thead>\n",
       "    <tr style=\"text-align: right;\">\n",
       "      <th></th>\n",
       "      <th>title</th>\n",
       "      <th>ingredients</th>\n",
       "      <th>similarity</th>\n",
       "    </tr>\n",
       "  </thead>\n",
       "  <tbody>\n",
       "    <tr>\n",
       "      <th>0</th>\n",
       "      <td>Wiener Schnitzel (Breaded Veal Cutlets)</td>\n",
       "      <td>[8 slices white bread, crusts removed, Flour f...</td>\n",
       "      <td>0.393530</td>\n",
       "    </tr>\n",
       "    <tr>\n",
       "      <th>1</th>\n",
       "      <td>Torta Milanesa</td>\n",
       "      <td>[Four 4-ounce chicken cutlets (about 1/4-inch ...</td>\n",
       "      <td>0.373377</td>\n",
       "    </tr>\n",
       "    <tr>\n",
       "      <th>2</th>\n",
       "      <td>Schnitzelwiches Holstein</td>\n",
       "      <td>[1 cup all-purpose flour, 6 large eggs, 1 cup ...</td>\n",
       "      <td>0.369852</td>\n",
       "    </tr>\n",
       "    <tr>\n",
       "      <th>3</th>\n",
       "      <td>Turkey Cutlets Milanese</td>\n",
       "      <td>[1 1/2 pounds turkey cutlets (about 1/4-inch t...</td>\n",
       "      <td>0.367920</td>\n",
       "    </tr>\n",
       "    <tr>\n",
       "      <th>4</th>\n",
       "      <td>Turkey Cutlets Milanese with Watercress Salad</td>\n",
       "      <td>[3/4 pound turkey cutlets (about 1/4-inch thic...</td>\n",
       "      <td>0.365317</td>\n",
       "    </tr>\n",
       "  </tbody>\n",
       "</table>\n",
       "</div>"
      ],
      "text/plain": [
       "                                            title  \\\n",
       "0         Wiener Schnitzel (Breaded Veal Cutlets)   \n",
       "1                                  Torta Milanesa   \n",
       "2                        Schnitzelwiches Holstein   \n",
       "3                         Turkey Cutlets Milanese   \n",
       "4  Turkey Cutlets Milanese with Watercress Salad    \n",
       "\n",
       "                                         ingredients  similarity  \n",
       "0  [8 slices white bread, crusts removed, Flour f...    0.393530  \n",
       "1  [Four 4-ounce chicken cutlets (about 1/4-inch ...    0.373377  \n",
       "2  [1 cup all-purpose flour, 6 large eggs, 1 cup ...    0.369852  \n",
       "3  [1 1/2 pounds turkey cutlets (about 1/4-inch t...    0.367920  \n",
       "4  [3/4 pound turkey cutlets (about 1/4-inch thic...    0.365317  "
      ]
     },
     "execution_count": 6,
     "metadata": {},
     "output_type": "execute_result"
    }
   ],
   "source": [
    "test_recipe = [\"\"\"\n",
    "Ingredients:\n",
    "\n",
    "4 veal cutlets (or pork if you can't find veal)\n",
    "Salt\n",
    "Pepper\n",
    "1 cup flour\n",
    "2 eggs\n",
    "1 cup breadcrumbs (preferably made from stale bread)\n",
    "1/2 cup vegetable oil (for frying)\n",
    "1 lemon (optional)\n",
    "Instructions:\n",
    "\n",
    "Pound the cutlets with a meat mallet until they are about 1/4 inch thick. Season both sides with salt and pepper.\n",
    "\n",
    "Place the flour in a shallow dish. In another dish, beat the eggs. In a third dish, place the breadcrumbs.\n",
    "\n",
    "Coat each cutlet with flour, shaking off any excess. Dip it into the beaten eggs, and then coat with the breadcrumbs. Repeat this for all of the cutlets.\n",
    "\n",
    "Heat the vegetable oil in a large frying pan until hot.\n",
    "\n",
    "Fry each cutlet for about 2-3 minutes on each side, or until golden brown and crispy. Be careful not to overcrowd the pan, you may need to fry them in batches.\n",
    "\n",
    "Remove the cutlets from the pan with a slotted spoon and place them on paper towels to drain any excess oil.\n",
    "\n",
    "\"\"\"]\n",
    "\n",
    "get_most_similar_doc(text = test_recipe, \n",
    "                     vectorized_corpus = embeddings, \n",
    "                     original_data = recipe_data)"
   ]
  },
  {
   "cell_type": "code",
   "execution_count": 8,
   "metadata": {},
   "outputs": [
    {
     "data": {
      "text/html": [
       "<div>\n",
       "<style scoped>\n",
       "    .dataframe tbody tr th:only-of-type {\n",
       "        vertical-align: middle;\n",
       "    }\n",
       "\n",
       "    .dataframe tbody tr th {\n",
       "        vertical-align: top;\n",
       "    }\n",
       "\n",
       "    .dataframe thead th {\n",
       "        text-align: right;\n",
       "    }\n",
       "</style>\n",
       "<table border=\"1\" class=\"dataframe\">\n",
       "  <thead>\n",
       "    <tr style=\"text-align: right;\">\n",
       "      <th></th>\n",
       "      <th>title</th>\n",
       "      <th>ingredients</th>\n",
       "      <th>similarity</th>\n",
       "    </tr>\n",
       "  </thead>\n",
       "  <tbody>\n",
       "    <tr>\n",
       "      <th>0</th>\n",
       "      <td>Creme Brulee</td>\n",
       "      <td>[1 quart heavy cream, 1 vanilla bean, split, o...</td>\n",
       "      <td>0.451963</td>\n",
       "    </tr>\n",
       "    <tr>\n",
       "      <th>1</th>\n",
       "      <td>Vanilla Creme Brulee</td>\n",
       "      <td>[1 vanilla bean, 2 cups heavy cream, 2 cups ha...</td>\n",
       "      <td>0.449797</td>\n",
       "    </tr>\n",
       "    <tr>\n",
       "      <th>2</th>\n",
       "      <td>Vanilla Creme Brulee</td>\n",
       "      <td>[1 vanilla bean, 2 cups heavy cream, 2 cups ha...</td>\n",
       "      <td>0.436838</td>\n",
       "    </tr>\n",
       "    <tr>\n",
       "      <th>3</th>\n",
       "      <td>Chocolate Sprinkled Creme Brulee</td>\n",
       "      <td>[2 1/3 cups heavy cream, 1/3 cup half-and-half...</td>\n",
       "      <td>0.435310</td>\n",
       "    </tr>\n",
       "    <tr>\n",
       "      <th>4</th>\n",
       "      <td>Crème Brûlée</td>\n",
       "      <td>[2 1/2 cups heavy cream, 3/4 cup sugar, 1/2 va...</td>\n",
       "      <td>0.426350</td>\n",
       "    </tr>\n",
       "  </tbody>\n",
       "</table>\n",
       "</div>"
      ],
      "text/plain": [
       "                              title  \\\n",
       "0                      Creme Brulee   \n",
       "1              Vanilla Creme Brulee   \n",
       "2              Vanilla Creme Brulee   \n",
       "3  Chocolate Sprinkled Creme Brulee   \n",
       "4                     Crème Brûlée    \n",
       "\n",
       "                                         ingredients  similarity  \n",
       "0  [1 quart heavy cream, 1 vanilla bean, split, o...    0.451963  \n",
       "1  [1 vanilla bean, 2 cups heavy cream, 2 cups ha...    0.449797  \n",
       "2  [1 vanilla bean, 2 cups heavy cream, 2 cups ha...    0.436838  \n",
       "3  [2 1/3 cups heavy cream, 1/3 cup half-and-half...    0.435310  \n",
       "4  [2 1/2 cups heavy cream, 3/4 cup sugar, 1/2 va...    0.426350  "
      ]
     },
     "execution_count": 8,
     "metadata": {},
     "output_type": "execute_result"
    }
   ],
   "source": [
    "test_recipe_2 = [\n",
    "    \"\"\"Ingredients:\n",
    "- 2 cups heavy cream\n",
    "- 1 vanilla bean, split and scraped or 1 tsp vanilla extract\n",
    "- 5 egg yolks\n",
    "- 1/2 cup granulated sugar, plus more for caramelizing\n",
    "\n",
    "Instructions:\n",
    "\n",
    "1. Preheat the oven to 325°F.\n",
    "\n",
    "2. In a medium saucepan, heat the cream and vanilla bean (both the seeds and the pod) over medium heat until it just begins to simmer. Remove from heat and let sit for 15 minutes to infuse the vanilla flavor.\n",
    "\n",
    "3. Whisk together the egg yolks and sugar in a medium bowl until light and fluffy.\n",
    "\n",
    "4. Remove the vanilla pod from the cream and scrape the seeds back into the cream. Discard the pod.\n",
    "\n",
    "5. Slowly add the cream to the egg mixture, whisking constantly, until well combined.\n",
    "\n",
    "6. Divide the mixture among four 6-ounce ramekins or custard cups.\n",
    "\n",
    "7. Place the ramekins in a baking dish and add enough hot water to the dish to reach halfway up the sides of the ramekins.\n",
    "\n",
    "8. Bake for 30-35 minutes or until the custard is set but still slightly jiggly in the center.\n",
    "\n",
    "9. Remove the ramekins from the water bath and let cool to room temperature. Refrigerate for at least 2 hours or overnight.\n",
    "\n",
    "10. When ready to serve, sprinkle a thin layer of sugar over the top of each custard. Either use a culinary torch to caramelize the sugar or place the ramekins under a broiler until the sugar is melted and caramelized. Serve immediately.\n",
    "\"\"\"\n",
    "]\n",
    "\n",
    "get_most_similar_doc(text = test_recipe_2, \n",
    "                     vectorized_corpus = embeddings, \n",
    "                     original_data = recipe_data)"
   ]
  },
  {
   "attachments": {},
   "cell_type": "markdown",
   "metadata": {},
   "source": [
    "## Save model and embeddings"
   ]
  },
  {
   "cell_type": "code",
   "execution_count": 10,
   "metadata": {},
   "outputs": [
    {
     "data": {
      "text/plain": [
       "['../embeddings/tfidf_embeddings.joblib']"
      ]
     },
     "execution_count": 10,
     "metadata": {},
     "output_type": "execute_result"
    }
   ],
   "source": [
    "dump(vectoriser, \"../models/tfidf.joblib\")\n",
    "dump(embeddings, \"../embeddings/tfidf_embeddings.joblib\")"
   ]
  }
 ],
 "metadata": {
  "kernelspec": {
   "display_name": "Python 3",
   "language": "python",
   "name": "python3"
  },
  "language_info": {
   "codemirror_mode": {
    "name": "ipython",
    "version": 3
   },
   "file_extension": ".py",
   "mimetype": "text/x-python",
   "name": "python",
   "nbconvert_exporter": "python",
   "pygments_lexer": "ipython3",
   "version": "3.9.16"
  },
  "orig_nbformat": 4,
  "vscode": {
   "interpreter": {
    "hash": "949777d72b0d2535278d3dc13498b2535136f6dfe0678499012e853ee9abcab1"
   }
  }
 },
 "nbformat": 4,
 "nbformat_minor": 2
}
