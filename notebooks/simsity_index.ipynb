{
 "cells": [
  {
   "cell_type": "code",
   "execution_count": 1,
   "metadata": {},
   "outputs": [],
   "source": [
    "from simsity import create_index, load_index\n",
    "from sentence_transformers import SentenceTransformer\n",
    "\n",
    "from dotenv import load_dotenv\n",
    "load_dotenv()\n",
    "\n",
    "from data.preprocess_data import combine_json_to_dataframe"
   ]
  },
  {
   "cell_type": "code",
   "execution_count": 2,
   "metadata": {},
   "outputs": [
    {
     "name": "stdout",
     "output_type": "stream",
     "text": [
      "<class 'pandas.core.frame.DataFrame'>\n",
      "Index: 124434 entries, p3pKOD6jIHEcjf20CCXohP8uqkG5dGi to 2Q3Zpfgt/PUwn1YABjJ5A9T3ZW8xwVa\n",
      "Data columns (total 5 columns):\n",
      " #   Column        Non-Null Count   Dtype  \n",
      "---  ------        --------------   -----  \n",
      " 0   instructions  124434 non-null  object \n",
      " 1   ingredients   124434 non-null  object \n",
      " 2   title         124434 non-null  object \n",
      " 3   full_text     124434 non-null  object \n",
      " 4   num_words     124434 non-null  float64\n",
      "dtypes: float64(1), object(4)\n",
      "memory usage: 5.7+ MB\n"
     ]
    }
   ],
   "source": [
    "# Call the function with the path to the zip file\n",
    "recipe_data = combine_json_to_dataframe(\"../data/recipes_raw.zip\")\n",
    "\n",
    "recipe_data.info(verbose=True)"
   ]
  },
  {
   "attachments": {},
   "cell_type": "markdown",
   "metadata": {},
   "source": [
    "# SimSity\n",
    "\n",
    "`SimSity` is a [lightweight indexing tool by Vincent WarmerDam](https://github.com/koaning/simsity).\n",
    "\n",
    "*\"The goal of simsity is to be minimal, to make rapid prototyping very easy and to be \"just enough\" for medium sized datasets.\"*\n",
    "\n",
    "It is built to interact easily with scikit-learn Transformers (like TfIDFTransformer) or another of Vincent's packages - [embetter](https://github.com/koaning/embetter).\n"
   ]
  },
  {
   "cell_type": "code",
   "execution_count": 3,
   "metadata": {},
   "outputs": [
    {
     "name": "stderr",
     "output_type": "stream",
     "text": [
      "indexing: 100%|██████████| 249/249 [4:54:50<00:00, 71.05s/it]  \n"
     ]
    }
   ],
   "source": [
    "# simsity requires the encoder class to have a `transform` method, thus this simple wrapper.\n",
    "class Encoder:\n",
    "    def __init__(self, model_name, max_seq_length = 512):\n",
    "        self.model = SentenceTransformer(model_name)\n",
    "        # Ensure we increase the max_seq_length to the maximum 512 to handle the long recipes\n",
    "        self.model.max_seq_length = max_seq_length\n",
    "    \n",
    "    def transform(self, data:list):\n",
    "        return self.model.encode(data)\n",
    "\n",
    "encoder = Encoder(model_name=\"all-MiniLM-L12-v2\")\n",
    "\n",
    "# Populate the ANN vector index and use it. \n",
    "index = create_index([rec for rec in recipe_data.full_text], \n",
    "                     encoder,\n",
    "                     path=\"../embeddings/\"\n",
    "                     )"
   ]
  },
  {
   "attachments": {},
   "cell_type": "markdown",
   "metadata": {},
   "source": [
    "`index.query()` returns cosine distances, rather than similarity. Do 1 - distance, in case you prefer similarity scores."
   ]
  },
  {
   "cell_type": "code",
   "execution_count": 4,
   "metadata": {},
   "outputs": [
    {
     "data": {
      "text/plain": [
       "(['Recipe title: Pork Cutlets. Ingredients: 1 egg white plus 1 tablespoon water; 1 teaspoon dry mustard; 1 (4-ounce) boneless pork cutlet, pounded thin; 1/2 cup flour; 1/2 cup dry bread crumbs; 1 tablespoon olive oil; 1 lime. Instructions: In a mixing bowl, beat the egg white and water until it starts to foam. Stir in a teaspoon of dry mustard. Season cutlet with salt and pepper. Dip the cutlet in flour, then the egg mixture, coating thoroughly, and then in the breadcrumbs. Be sure that both sides are covered well. Set aside, or refrigerate, covered by a piece of waxed paper or plastic wrap.\\nHeat the oil in a heavy frying pan until hot. Add the cutlet, lower the heat slightly, and cook for about 2 minutes. Turn with a spatula, and brown the other side. Continue cooking, turning once again if necessary, until the pork is cooked through, about 5 minutes in total. When done, the flesh will be white. Drain on a paper bag. Serve with a squeeze of lime.\\nServe with potato and leeks',\n",
       "  'Recipe title: Crispy Pork Cutlets. Ingredients: 2 (1 1/4 pound) fully trimmed pork tenderloins, cut into 8 pieces ; salt and freshly ground black pepper to taste ; 2 tablespoons all-purpose flour, or as needed ; 2 eggs, beaten ; 3 cups panko bread crumbs ; 2 tablespoons butter ; 1/3 cup diced dill pickles ; 1 jalapeno pepper, seeded and minced ; 1 bunch green onions, chopped, green tops reserved ; 1 pinch cayenne pepper, or to taste ; 1 1/2 tablespoons all-purpose flour ; 1 1/2 cups cold milk, or more as needed ; 1 teaspoon Worcestershire sauce, or to taste ; 1/4 teaspoon freshly ground black pepper, or more to taste ; 1/2 cup vegetable oil for frying ; salt to taste ; . Instructions: Place pork between two sheets of heavy plastic (resealable freezer bags work well) on a solid, level surface. Firmly pound pork with the smooth side of a meat mallet to a thickness of 1/2 inch.\\nPlace pork pieces on a plate and season both sides generously with salt and black pepper. Sprinkle 2 tablespoons of flour over pork pieces, lightly coating both sides. Pour eggs over pork, turning to coat.\\nTransfer pork pieces to a bowl filled with panko bread crumbs. Press bread crumbs firmly into the meat on both sides. Transfer breaded cutlets to a clean plate, cover with plastic and refrigerate for 15 minutes.\\nMelt butter in a skillet over medium heat. Stir in pickles, jalapeno pepper, and green onions; cook and stir until onions have softened, about 3 minutes.\\nSprinkle in 1 1/2 tablespoon flour. Cook and stir for 3 minutes.\\nSlowly stir in 2 to 3 tablespoons cold milk, whisking constantly. Stir in remaining milk, Worcestershire sauce, and black pepper. Simmer on low for 5 minutes. Taste and adjust seasoning.\\nHeat half the vegetable oil in a large skillet over medium-high heat. Add 4 breaded pork cutlets and cook until pork is not longer pink inside, and the crust is well-browned, 4 to 5 minutes per side. Transfer to plate lined with paper towels. Sprinkle with salt. Repeat with remaining vegetable oil and pork cutlets.\\n',\n",
       "  'Recipe title: Breaded Pork Chops. Ingredients: Four 1/2-inch-thick, bone-in, pork chops (about 1-1/2 pounds), patted dry; Flour for dredging; 2 large eggs; 1 teaspoon kosher salt; Freshly ground black pepper; 1 1/2 cups fresh sourdough bread crumbs; 1/4 teaspoon dried thyme; 1/4 teaspoon dried marjoram; 1/4 teaspoon dried basil; Extra-virgin olive oil for shallow frying; 2 lemon wedges. Instructions: Put the flour in a shallow bowl or lipped plate. Break the eggs into another shallow bowl and whisk with the salt and pepper. In a third shallow bowl mix the breadcrumbs with herbs.\\nBread the chops. Dredge a chop in the flour, shaking off the excess, then dip it into the eggs, and finally coat the meat evenly with the breadcrumbs. Set on a piece of waxed paper or baking sheet. Repeat with the remaining chops. Heat a large skillet over medium heat with enough oil to come halfway up the sides of the chops, about 1/4 cup. When the oil shimmers, add the chops and fry 3 to 4 minutes on each side, until golden brown and crispy. Drain on paper towels and serve immediately with lemon wedges.'],\n",
       " [0.1599071, 0.21831352, 0.22619498])"
      ]
     },
     "execution_count": 4,
     "metadata": {},
     "output_type": "execute_result"
    }
   ],
   "source": [
    "test_recipe = \"\"\"\n",
    "Ingredients:\n",
    "\n",
    "4 veal cutlets (or pork if you can't find veal)\n",
    "Salt\n",
    "Pepper\n",
    "1 cup flour\n",
    "2 eggs\n",
    "1 cup breadcrumbs (preferably made from stale bread)\n",
    "1/2 cup vegetable oil (for frying)\n",
    "1 lemon (optional)\n",
    "Instructions:\n",
    "\n",
    "Pound the cutlets with a meat mallet until they are about 1/4 inch thick. Season both sides with salt and pepper.\n",
    "\n",
    "Place the flour in a shallow dish. In another dish, beat the eggs. In a third dish, place the breadcrumbs.\n",
    "\n",
    "Coat each cutlet with flour, shaking off any excess. Dip it into the beaten eggs, and then coat with the breadcrumbs. Repeat this for all of the cutlets.\n",
    "\n",
    "Heat the vegetable oil in a large frying pan until hot.\n",
    "\n",
    "Fry each cutlet for about 2-3 minutes on each side, or until golden brown and crispy. Be careful not to overcrowd the pan, you may need to fry them in batches.\n",
    "\n",
    "Remove the cutlets from the pan with a slotted spoon and place them on paper towels to drain any excess oil.\n",
    "\n",
    "\"\"\"\n",
    "\n",
    "index.query(test_recipe, n=3)"
   ]
  },
  {
   "cell_type": "code",
   "execution_count": 5,
   "metadata": {},
   "outputs": [
    {
     "data": {
      "text/plain": [
       "(['Recipe title: Crème Brûlée . Ingredients: 2 1/2 cups heavy cream; 3/4 cup sugar; 1/2 vanilla bean, split lengthwise and seeds scraped; Pinch salt; 5 large egg yolks, lightly beaten; 6 tablespoons sanding sugar. Instructions: 1. Preheat the oven to 325°F and arrange the ramekins on a large rimmed baking sheet. 2. In a medium saucepan over moderately high heat, combine the heavy cream, 1/2 of the sugar, the vanilla bean seeds and pod, and the salt and bring to a boil, stirring to dissolve the sugar. 3. While the cream is heating, combine the egg yolks with the remaining sugar and whisk to combine. Gradually add about 1/3 of the hot cream to the yolks, whisking constantly, then add the remaining hot cream and stir to fully combine. Strain the custard through a fine-mesh sieve into a clean container. Carefully ladle or pour the custard into the ramekins, filling them to the rim. 4. Place the baking sheet in the oven and carefully pour enough hot water into the pan to come halfway up the sides of the ramekins. Bake until the edges have set but the center still jiggles when the ramekin is gently shaken, 20 to 25 minutes. 5. Remove the ramekins from the water bath and let cool on a rack for 30 minutes then wrap individually and refrigerate for at least 3 hours. 6. To serve: Sprinkle the top of each custard with a thin even layer of sanding sugar, using about 1 tablespoon per ramekin. Use a kitchen blowtorch or the broiler to evenly melt and caramelize the sugar. Serve immediately.\\n1. Preheat the oven to 325°F and arrange the ramekins on a large rimmed baking sheet.\\n2. In a medium saucepan over moderately high heat, combine the heavy cream, 1/2 of the sugar, the vanilla bean seeds and pod, and the salt and bring to a boil, stirring to dissolve the sugar.\\n3. While the cream is heating, combine the egg yolks with the remaining sugar and whisk to combine. Gradually add about 1/3 of the hot cream to the yolks, whisking constantly, then add the remaining hot cream and stir to fully combine. Strain the custard through a fine-mesh sieve into a clean container. Carefully ladle or pour the custard into the ramekins, filling them to the rim.\\n4. Place the baking sheet in the oven and carefully pour enough hot water into the pan to come halfway up the sides of the ramekins. Bake until the edges have set but the center still jiggles when the ramekin is gently shaken, 20 to 25 minutes.\\n5. Remove the ramekins from the water bath and let cool on a rack for 30 minutes then wrap individually and refrigerate for at least 3 hours.\\n6. To serve: Sprinkle the top of each custard with a thin even layer of sanding sugar, using about 1 tablespoon per ramekin. Use a kitchen blowtorch or the broiler to evenly melt and caramelize the sugar. Serve immediately.',\n",
       "  'Recipe title: Chocolate Sprinkled Creme Brulee. Ingredients: 2 1/3 cups heavy cream; 1/3 cup half-and-half; 1/2 vanilla bean, split lengthwise; 8 egg yolks; 1/2 cup granulated sugar; 4 teaspoons shaved bitter or semisweet chocolate; 1/2 cup coarse, raw, or demerara sugar. Instructions: Preheat the oven to 300 degrees.\\nIn a medium saucepan, heat the cream, half-and-half and vanilla bean over medium heat just until it comes to a boil. Immediately turn off the heat. Set aside to infuse for 10 minutes. In a large bowl, whisk the egg yolks with the sugar just until combined. Whisking constantly, gradually pour in the hot cream mixture. Strain the mixture into a pitcher to smooth it and to remove the vanilla bean.\\nPour the mixture into 4 to 6 ovenproof ramekins and arrange in a hot water bath. Sprinkle the custards with the chocolate shavings. Bake in the center of the oven until almost set but still jiggly in the center, 30 to 40 minutes. (The custard will finish cooking as it cools.) Remove from the water bath and let cool 15 minutes. Tightly cover each ramekin with plastic wrap, making sure the plastic does not touch the surface of the custard. Refrigerate at least 2 hours or until ready to serve. When ready to serve, preheat a broiler to very hot (or fire up your kitchen torch). Uncover the ramekins. To make the sugar coating, pour as much sugar as you can fit onto the top of 1 of the custards. Pour off the remaining sugar onto the next custard. Repeat until all the custards are coated. Discard any remaining sugar. Place the ramekins on a baking sheet and broil until the sugar is melted and well browned, about 2 minutes. Let cool 1 minute before serving.',\n",
       "  'Recipe title: Vanilla Bean Creme Brulee with Raspberries. Ingredients: 2 1/3 cups heavy cream; 2/3 cup sugar, plus more if needed; 1 vanilla bean; 6 eggs; 4 to 8 teaspoons sugar, divided; 1 cup fresh raspberries; 1 tablespoon sugar; 1 teaspoon lemon zest; Special equipment: 4 (6-ounce) ramekins, a baker\\'s torch. Instructions: Watch how to make this recipe.\\nFor the custard: Preheat the oven to 325 degrees F. Place 4 (6-ounce) ramekins in a 13 by 9 by 2-inch baking pan. Fill a tea kettle or small saucepan with a spout with water and heat.\\nAdd the heavy cream and sugar to a medium saucepan and whisk to combine. Using a sharp paring knife, split the vanilla bean lengthwise and scrape the seeds from the vanilla bean using the back of the knife to prevent the pod from breaking. Add the seeds and bean to the saucepan. (If any of the vanilla seeds get stuck to your fingers, grab some of your extra sugar and rub the sugar between your fingers over the saucepan to remove every last bit of vanilla seeds and let fall into the cream.) Whisk over medium heat until the sugar dissolves, the vanilla seeds break up and the mixture comes to a simmer. Cover the pan, reduce the heat to low and simmer for 10 minutes. Strain into a large measuring cup or bowl with a spout and either discard the vanilla bean or reserve, dry out and add to your sugar bowl!\\nPlace a medium bowl over some wet paper towels, or form a dish towel into a circle or wreath shape and nestle the bowl in the center. This will help act as your third hand or as a base to hold the bowl in place when you start tempering in your hot liquid. Separate the eggs, add the yolks to the bowl and whisk to combine. (Reserve the egg whites for another use, or make meringues and store in an air-tight container for a sweet treat anytime!) Gradually whisk in the hot cream mixture, making sure to scrape any remaining vanilla beans into the mixture as well. Return the custard to the measuring cup. Pour the custard into the ramekins, or use either a 4 or 6-ounce ladle to help evenly distribute. Pour enough hot water from your tea kettle into the pan to come halfway up the sides of the ramekins. Carefully transfer the baking dish into the oven. Alternatively, to make sure none of the water from the pan ends up in the filled ramekins, you can place the pan with the ramekins in the oven, and then add the water to come halfway up the sides.\\nBake the custards until the center is set but still jiggles a bit when you gently shake the pan, 30 to 35 minutes. Carefully remove the ramekins from the water bath and set aside to cool to room temperature. Once at room temperature, place into the refrigerator to cool completely.\\nFor the brulee: Sprinkle 1 to 2 teaspoons sugar evenly over the tops of each custard, picking up the ramekin if needed. Position the flame of a baker\\'s torch 1 to 2 inches above the surface of the custard and move the torch around in an even circle to melt and brown the sugar, moving from ramekin to ramekin. Do not allow the sugar to burn. You can even pick up and tilt the ramekin to help even out the caramelized sugar. If you don\\'t have a baker\\'s torch, place all the ramekins on a baking sheet and pop under the broiler. Watch the whole time, and rotate the baking sheet as needed until the sugar melts and browns evenly.\\nFor the berries: Combine the raspberries, sugar and lemon zest in a bowl. Let stand at room temperature at least 15 minutes and up to 1 hour. When ready to serve, spoon the berry mixture atop the custards.\\nCook\\'s Note: Creme brulee is super easy and you can infuse the cream with almost any flavor. If you like coffee, add a pinch or 2 of instant coffee granules to the cream. For a lavender-scented brulee, just steep a dash of lavender in the cream, then strain as usual.\\nPropane gas torches are highly flammable and should be kept away from heat, open flame, and prolonged exposure to sunlight. They should only be used in well-ventilated areas. When lighting a propane gas torch, place the torch on a flat, steady surface, facing away from you. Light the match or lighter and then open the gas valve. Light the gas jet, and blow out the match. Always turn off the burner valve to \"finger tight\" when finished using the torch. Children should never use a propane gas torch without adult supervision.'],\n",
       " [0.1293199, 0.1772272, 0.18737584])"
      ]
     },
     "execution_count": 5,
     "metadata": {},
     "output_type": "execute_result"
    }
   ],
   "source": [
    "test_recipe_2 =     \"\"\"Ingredients:\n",
    "- 2 cups heavy cream\n",
    "- 1 vanilla bean, split and scraped or 1 tsp vanilla extract\n",
    "- 5 egg yolks\n",
    "- 1/2 cup granulated sugar, plus more for caramelizing\n",
    "\n",
    "Instructions:\n",
    "\n",
    "1. Preheat the oven to 325°F.\n",
    "\n",
    "2. In a medium saucepan, heat the cream and vanilla bean (both the seeds and the pod) over medium heat until it just begins to simmer. Remove from heat and let sit for 15 minutes to infuse the vanilla flavor.\n",
    "\n",
    "3. Whisk together the egg yolks and sugar in a medium bowl until light and fluffy.\n",
    "\n",
    "4. Remove the vanilla pod from the cream and scrape the seeds back into the cream. Discard the pod.\n",
    "\n",
    "5. Slowly add the cream to the egg mixture, whisking constantly, until well combined.\n",
    "\n",
    "6. Divide the mixture among four 6-ounce ramekins or custard cups.\n",
    "\n",
    "7. Place the ramekins in a baking dish and add enough hot water to the dish to reach halfway up the sides of the ramekins.\n",
    "\n",
    "8. Bake for 30-35 minutes or until the custard is set but still slightly jiggly in the center.\n",
    "\n",
    "9. Remove the ramekins from the water bath and let cool to room temperature. Refrigerate for at least 2 hours or overnight.\n",
    "\n",
    "10. When ready to serve, sprinkle a thin layer of sugar over the top of each custard. Either use a culinary torch to caramelize the sugar or place the ramekins under a broiler until the sugar is melted and caramelized. Serve immediately.\n",
    "\"\"\"\n",
    "\n",
    "index.query(test_recipe_2, n=3)"
   ]
  }
 ],
 "metadata": {
  "kernelspec": {
   "display_name": "Python 3",
   "language": "python",
   "name": "python3"
  },
  "language_info": {
   "codemirror_mode": {
    "name": "ipython",
    "version": 3
   },
   "file_extension": ".py",
   "mimetype": "text/x-python",
   "name": "python",
   "nbconvert_exporter": "python",
   "pygments_lexer": "ipython3",
   "version": "3.9.16"
  },
  "orig_nbformat": 4,
  "vscode": {
   "interpreter": {
    "hash": "949777d72b0d2535278d3dc13498b2535136f6dfe0678499012e853ee9abcab1"
   }
  }
 },
 "nbformat": 4,
 "nbformat_minor": 2
}
